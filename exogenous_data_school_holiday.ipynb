{
 "cells": [
  {
   "cell_type": "code",
   "execution_count": 5,
   "id": "a04a47cc",
   "metadata": {
    "ExecuteTime": {
     "end_time": "2023-08-24T12:01:16.609579Z",
     "start_time": "2023-08-24T12:01:16.548791Z"
    }
   },
   "outputs": [
    {
     "name": "stdout",
     "output_type": "stream",
     "text": [
      "            Zone A  Zone B  Zone C\n",
      "date                              \n",
      "2017-01-01       0       0       0\n",
      "2017-01-02       0       0       0\n",
      "2017-01-03       0       0       0\n",
      "2017-01-04       0       0       0\n",
      "2017-01-05       0       0       0\n",
      "...            ...     ...     ...\n",
      "2023-07-28       0       0       0\n",
      "2023-07-29       0       0       0\n",
      "2023-07-30       0       0       0\n",
      "2023-07-31       0       0       0\n",
      "2023-08-01       0       0       0\n",
      "\n",
      "[2404 rows x 3 columns]\n"
     ]
    }
   ],
   "source": [
    "import pandas as pd\n",
    "from workalendar.europe import France\n",
    "\n",
    "# function to get school holidays for a zone and list of year\n",
    "def get_holidays_for_zone(zone_index, years):\n",
    "    cal = France(zone_index=zone_index)\n",
    "    holidays = []\n",
    "    for year in years:\n",
    "        holidays.extend([day[0] for day in cal.holidays(year)])\n",
    "    return holidays\n",
    "\n",
    "# create school holidays for each zone\n",
    "years = list(range(2017, 2024))\n",
    "holidays_a = get_holidays_for_zone(0, years)\n",
    "holidays_b = get_holidays_for_zone(1, years)\n",
    "holidays_c = get_holidays_for_zone(2, years)\n",
    "\n",
    "# create dataframe with date\n",
    "date_range = pd.date_range(start=\"2017-01-01\", end=\"2023-08-01\")\n",
    "df = pd.DataFrame({'date': date_range})\n",
    "df.set_index('date', inplace=True)\n",
    "\n",
    "# add holidays data\n",
    "df['Zone A'] = [1 if date in holidays_a else 0 for date in df.index]\n",
    "df['Zone B'] = [1 if date in holidays_b else 0 for date in df.index]\n",
    "df['Zone C'] = [1 if date in holidays_c else 0 for date in df.index]\n",
    "\n",
    "print(df)\n",
    "df.to_csv('data/school_holiday.csv')\n"
   ]
  },
  {
   "cell_type": "code",
   "execution_count": null,
   "id": "a80c79a9",
   "metadata": {},
   "outputs": [],
   "source": []
  }
 ],
 "metadata": {
  "hide_input": false,
  "kernelspec": {
   "display_name": "Python 3.10 (tensorflowspyder)",
   "language": "python",
   "name": "tensorflow"
  },
  "language_info": {
   "codemirror_mode": {
    "name": "ipython",
    "version": 3
   },
   "file_extension": ".py",
   "mimetype": "text/x-python",
   "name": "python",
   "nbconvert_exporter": "python",
   "pygments_lexer": "ipython3",
   "version": "3.10.12"
  },
  "toc": {
   "base_numbering": 1,
   "nav_menu": {},
   "number_sections": true,
   "sideBar": true,
   "skip_h1_title": false,
   "title_cell": "Table of Contents",
   "title_sidebar": "Contents",
   "toc_cell": false,
   "toc_position": {},
   "toc_section_display": true,
   "toc_window_display": false
  },
  "varInspector": {
   "cols": {
    "lenName": 16,
    "lenType": 16,
    "lenVar": 40
   },
   "kernels_config": {
    "python": {
     "delete_cmd_postfix": "",
     "delete_cmd_prefix": "del ",
     "library": "var_list.py",
     "varRefreshCmd": "print(var_dic_list())"
    },
    "r": {
     "delete_cmd_postfix": ") ",
     "delete_cmd_prefix": "rm(",
     "library": "var_list.r",
     "varRefreshCmd": "cat(var_dic_list()) "
    }
   },
   "types_to_exclude": [
    "module",
    "function",
    "builtin_function_or_method",
    "instance",
    "_Feature"
   ],
   "window_display": false
  }
 },
 "nbformat": 4,
 "nbformat_minor": 5
}
