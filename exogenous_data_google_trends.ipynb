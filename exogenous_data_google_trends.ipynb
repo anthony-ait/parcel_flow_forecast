{
 "cells": [
  {
   "cell_type": "code",
   "execution_count": 15,
   "id": "0ec0f238",
   "metadata": {
    "ExecuteTime": {
     "end_time": "2023-08-24T12:22:10.075266Z",
     "start_time": "2023-08-24T11:51:56.102037Z"
    }
   },
   "outputs": [
    {
     "name": "stdout",
     "output_type": "stream",
     "text": [
      "            Livraison  Suivi colis  Expédition colis  Tarif colis  \\\n",
      "date                                                                \n",
      "2017-01-01         76           13                 0           38   \n",
      "2017-01-02         60           30                 0           64   \n",
      "2017-01-03         56           31                 0           54   \n",
      "2017-01-04         57           31                28           72   \n",
      "2017-01-05         58           33                 0           46   \n",
      "...               ...          ...               ...          ...   \n",
      "2023-07-28         81           67                 0           52   \n",
      "2023-07-29         80           54                 0           44   \n",
      "2023-07-30         79           24                 0           67   \n",
      "2023-07-31         93           65                 0           45   \n",
      "2023-08-01         88           75               100           27   \n",
      "\n",
      "            Envoi colis  Livraison express  Livraison domicile  \\\n",
      "date                                                             \n",
      "2017-01-01           42                 13                  92   \n",
      "2017-01-02           76                 10                  79   \n",
      "2017-01-03           59                  0                  81   \n",
      "2017-01-04           62                 38                  56   \n",
      "2017-01-05           68                 26                  60   \n",
      "...                 ...                ...                 ...   \n",
      "2023-07-28           76                 33                  75   \n",
      "2023-07-29           41                 47                  80   \n",
      "2023-07-30           32                 29                  66   \n",
      "2023-07-31           84                 42                  78   \n",
      "2023-08-01           69                 26                  87   \n",
      "\n",
      "            Délai livraison  Retard livraison  Service de livraison  \\\n",
      "date                                                                  \n",
      "2017-01-01                0                29                    36   \n",
      "2017-01-02               47                52                     0   \n",
      "2017-01-03               16                40                    30   \n",
      "2017-01-04               20                95                    45   \n",
      "2017-01-05               23                33                    46   \n",
      "...                     ...               ...                   ...   \n",
      "2023-07-28               29                33                     0   \n",
      "2023-07-29               31                28                    28   \n",
      "2023-07-30                0                45                     0   \n",
      "2023-07-31               41                58                    26   \n",
      "2023-08-01               21                57                    35   \n",
      "\n",
      "            Point relais  colis  \n",
      "date                             \n",
      "2017-01-01            24     33  \n",
      "2017-01-02            70     60  \n",
      "2017-01-03            75     65  \n",
      "2017-01-04            72     63  \n",
      "2017-01-05            48     65  \n",
      "...                  ...    ...  \n",
      "2023-07-28            68     75  \n",
      "2023-07-29            79     67  \n",
      "2023-07-30            35     42  \n",
      "2023-07-31           100     83  \n",
      "2023-08-01            75     80  \n",
      "\n",
      "[2404 rows x 12 columns]\n"
     ]
    }
   ],
   "source": [
    "from pytrends.request import TrendReq\n",
    "import pandas as pd\n",
    "from datetime import datetime, timedelta\n",
    "import time\n",
    "import os\n",
    "\n",
    "# Connexion à Google Trends\n",
    "pytrends = TrendReq(hl='fr-FR', tz=360)\n",
    "\n",
    "# Paramètres\n",
    "kw_list = [\"Livraison\", \"Suivi colis\", \"Expédition colis\", \"Tarif colis\", \"Envoi colis\", \n",
    "            \"Livraison express\", \"Livraison domicile\", \"Délai livraison\", \"Retard livraison\", \n",
    "            \"Service de livraison\", \"Point relais\", \"colis\"]\n",
    "start_date = datetime(2017, 1, 1)\n",
    "end_date = datetime(2023, 8, 1)\n",
    "delta = timedelta(days=90)\n",
    "\n",
    "# Créez un dossier pour stocker les fichiers mis en cache, s'il n'existe pas déjà\n",
    "if not os.path.exists('cache'):\n",
    "    os.makedirs('cache')\n",
    "\n",
    "# Dictionnaire pour stocker les différents dataframes pour chaque terme\n",
    "dfs_dict = {}\n",
    "\n",
    "# Iterer sur chaque terme de la liste\n",
    "for term in kw_list:\n",
    "    all_dfs = []  # Liste pour stocker les dataframes pour ce terme\n",
    "    current_start_date = start_date\n",
    "    \n",
    "    # Fractionnement de la plage de dates pour obtenir des données quotidiennes\n",
    "    while current_start_date < end_date:\n",
    "        next_end_date = current_start_date + delta\n",
    "        if next_end_date > end_date:\n",
    "            next_end_date = end_date\n",
    "\n",
    "        cache_file = f\"cache/{term}_{current_start_date.strftime('%Y%m%d')}_to_{next_end_date.strftime('%Y%m%d')}.csv\"\n",
    "\n",
    "        if os.path.exists(cache_file):\n",
    "            df = pd.read_csv(cache_file, index_col=0)\n",
    "        else:\n",
    "            timeframe_str = current_start_date.strftime('%Y-%m-%d') + \" \" + next_end_date.strftime('%Y-%m-%d')\n",
    "            pytrends.build_payload([term], cat=0, timeframe=timeframe_str, geo='FR', gprop='')\n",
    "            df = pytrends.interest_over_time()\n",
    "            \n",
    "            # Cache the dataframe\n",
    "            df.to_csv(cache_file)\n",
    "            \n",
    "            # Wait for 5 seconds\n",
    "            time.sleep(5)\n",
    "\n",
    "        all_dfs.append(df)\n",
    "        current_start_date = next_end_date + timedelta(days=1)\n",
    "    \n",
    "    dfs_dict[term] = pd.concat(all_dfs, axis=0).drop(columns='isPartial', errors='ignore')\n",
    "\n",
    "# Combine all individual dataframes into one dataframe\n",
    "df_google_trends = pd.concat(dfs_dict.values(), axis=1)\n",
    "\n",
    "print(df_google_trends)\n"
   ]
  },
  {
   "cell_type": "code",
   "execution_count": 16,
   "id": "ed510aac",
   "metadata": {
    "ExecuteTime": {
     "end_time": "2023-08-24T12:24:17.742782Z",
     "start_time": "2023-08-24T12:24:17.708538Z"
    }
   },
   "outputs": [],
   "source": [
    "df_google_trends.to_csv('data/google_trends.csv')"
   ]
  },
  {
   "cell_type": "code",
   "execution_count": null,
   "id": "6ce93188",
   "metadata": {},
   "outputs": [],
   "source": []
  }
 ],
 "metadata": {
  "hide_input": false,
  "kernelspec": {
   "display_name": "Python 3.10 (tensorflowspyder)",
   "language": "python",
   "name": "tensorflow"
  },
  "language_info": {
   "codemirror_mode": {
    "name": "ipython",
    "version": 3
   },
   "file_extension": ".py",
   "mimetype": "text/x-python",
   "name": "python",
   "nbconvert_exporter": "python",
   "pygments_lexer": "ipython3",
   "version": "3.10.12"
  },
  "toc": {
   "base_numbering": 1,
   "nav_menu": {},
   "number_sections": true,
   "sideBar": true,
   "skip_h1_title": false,
   "title_cell": "Table of Contents",
   "title_sidebar": "Contents",
   "toc_cell": false,
   "toc_position": {},
   "toc_section_display": true,
   "toc_window_display": false
  },
  "varInspector": {
   "cols": {
    "lenName": 16,
    "lenType": 16,
    "lenVar": 40
   },
   "kernels_config": {
    "python": {
     "delete_cmd_postfix": "",
     "delete_cmd_prefix": "del ",
     "library": "var_list.py",
     "varRefreshCmd": "print(var_dic_list())"
    },
    "r": {
     "delete_cmd_postfix": ") ",
     "delete_cmd_prefix": "rm(",
     "library": "var_list.r",
     "varRefreshCmd": "cat(var_dic_list()) "
    }
   },
   "types_to_exclude": [
    "module",
    "function",
    "builtin_function_or_method",
    "instance",
    "_Feature"
   ],
   "window_display": false
  }
 },
 "nbformat": 4,
 "nbformat_minor": 5
}
