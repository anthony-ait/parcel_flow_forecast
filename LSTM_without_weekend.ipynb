{
 "cells": [
  {
   "cell_type": "markdown",
   "id": "774d8fcc",
   "metadata": {},
   "source": [
    "# Data preparation"
   ]
  },
  {
   "cell_type": "markdown",
   "id": "afedcc88",
   "metadata": {},
   "source": [
    "## Library import"
   ]
  },
  {
   "cell_type": "code",
   "execution_count": 1,
   "id": "d8e4897d",
   "metadata": {
    "ExecuteTime": {
     "end_time": "2023-08-23T11:34:21.067786Z",
     "start_time": "2023-08-23T11:34:18.642566Z"
    },
    "hide_input": false,
    "init_cell": true
   },
   "outputs": [],
   "source": [
    "import pandas as pd\n",
    "import numpy as np\n",
    "\n",
    "import tensorflow as tf\n",
    "\n",
    "from tensorflow.keras.models import Sequential\n",
    "from tensorflow.keras.layers import Dense, LSTM, Conv1D, Flatten\n",
    "from tensorflow.keras.optimizers import legacy\n",
    "\n",
    "from sklearn.preprocessing import MinMaxScaler\n",
    "\n",
    "from keras.regularizers import l1, l2, l1_l2\n",
    "\n",
    "import matplotlib\n",
    "import matplotlib.pyplot as plt\n",
    "import matplotlib.dates as mdates\n",
    "import matplotlib.font_manager as font_manager\n",
    "\n",
    "import time"
   ]
  },
  {
   "cell_type": "markdown",
   "id": "cf3a997e",
   "metadata": {},
   "source": [
    "## Use Colissimo font for Matplotlib"
   ]
  },
  {
   "cell_type": "code",
   "execution_count": 2,
   "id": "652923aa",
   "metadata": {
    "ExecuteTime": {
     "end_time": "2023-08-23T11:34:21.072379Z",
     "start_time": "2023-08-23T11:34:21.069093Z"
    },
    "init_cell": true
   },
   "outputs": [],
   "source": [
    "font_path = 'Font/Monserrat/Montserrat-Regular.otf'\n",
    "\n",
    "font_manager.fontManager.addfont(font_path)\n",
    "\n",
    "plt.rcParams['font.family'] = 'Montserrat'"
   ]
  },
  {
   "cell_type": "markdown",
   "id": "e224b6f5",
   "metadata": {},
   "source": [
    "## Read dataset"
   ]
  },
  {
   "cell_type": "code",
   "execution_count": 3,
   "id": "92576b53",
   "metadata": {
    "ExecuteTime": {
     "end_time": "2023-08-23T11:34:21.267962Z",
     "start_time": "2023-08-23T11:34:21.073222Z"
    },
    "init_cell": true
   },
   "outputs": [],
   "source": [
    "# Read main data\n",
    "data = pd.read_excel('data/traffic_tg1.xlsx', index_col='date')\n",
    "data.index = pd.to_datetime(data.index)\n",
    "\n",
    "# Read holiday day data\n",
    "holidays_data = pd.read_excel('data/public_holiday.xlsx')\n",
    "holidays_data['date'] = pd.to_datetime(holidays_data['date'])"
   ]
  },
  {
   "cell_type": "markdown",
   "id": "15258895",
   "metadata": {},
   "source": [
    "## Create dummies"
   ]
  },
  {
   "cell_type": "code",
   "execution_count": 4,
   "id": "a03935f2",
   "metadata": {
    "ExecuteTime": {
     "end_time": "2023-08-23T11:34:21.271338Z",
     "start_time": "2023-08-23T11:34:21.269497Z"
    },
    "hide_input": false,
    "init_cell": true
   },
   "outputs": [],
   "source": [
    "#Create dummies\n",
    "\n",
    "# Create a dummy for holiday\n",
    "data['is_holiday'] = data.index.isin(holidays_data['date']).astype(int)"
   ]
  },
  {
   "cell_type": "markdown",
   "id": "6e7bf817",
   "metadata": {
    "ExecuteTime": {
     "end_time": "2023-08-16T09:09:00.296767Z",
     "start_time": "2023-08-16T09:09:00.288788Z"
    },
    "hide_input": false
   },
   "source": [
    "# Function creation"
   ]
  },
  {
   "cell_type": "markdown",
   "id": "af8a8b45",
   "metadata": {
    "ExecuteTime": {
     "end_time": "2023-08-16T12:06:02.999713Z",
     "start_time": "2023-08-16T12:06:02.981026Z"
    }
   },
   "source": [
    "## Custom MAPE/MAE function loss"
   ]
  },
  {
   "cell_type": "code",
   "execution_count": 5,
   "id": "00f91321",
   "metadata": {
    "ExecuteTime": {
     "end_time": "2023-08-23T11:34:21.275211Z",
     "start_time": "2023-08-23T11:34:21.272138Z"
    },
    "init_cell": true
   },
   "outputs": [],
   "source": [
    "def custom_mape(y_true, y_pred):\n",
    "    y_true = tf.cast(y_true, tf.float32)\n",
    "    y_pred = tf.cast(y_pred, tf.float32)\n",
    "    mask = tf.math.greater(y_true, 0)\n",
    "    y_true_masked = tf.boolean_mask(y_true, mask)\n",
    "    y_pred_masked = tf.boolean_mask(y_pred, mask)\n",
    "\n",
    "    diff = tf.abs((y_true_masked - y_pred_masked) / y_true_masked)\n",
    "    return 100. * tf.reduce_mean(diff)\n",
    "\n",
    "def custom_mae(y_true, y_pred):\n",
    "    y_true = tf.cast(y_true, tf.float32)\n",
    "    y_pred = tf.cast(y_pred, tf.float32)\n",
    "    mask = tf.math.greater(y_true, 0)\n",
    "    y_true_masked = tf.boolean_mask(y_true, mask)\n",
    "    y_pred_masked = tf.boolean_mask(y_pred, mask)\n",
    "\n",
    "    diff = tf.abs(y_true_masked - y_pred_masked)\n",
    "    return 100. * tf.reduce_mean(diff)"
   ]
  },
  {
   "cell_type": "markdown",
   "id": "30fe063c",
   "metadata": {},
   "source": [
    "## LSTM model"
   ]
  },
  {
   "cell_type": "code",
   "execution_count": 16,
   "id": "35580ab5",
   "metadata": {
    "ExecuteTime": {
     "end_time": "2023-08-23T12:14:39.440098Z",
     "start_time": "2023-08-23T12:14:39.431375Z"
    },
    "init_cell": true
   },
   "outputs": [],
   "source": [
    "# Define a function to create a sequential CNN model\n",
    "def create_lstm_model(units, n_steps_in, n_features, optimizer, loss, l1_reg=0, l2_reg=0):\n",
    "    model = Sequential()\n",
    "    model.add(LSTM(units=units, \n",
    "                     input_shape=(n_steps_in, n_features),\n",
    "                  kernel_regularizer=l1_l2(l1=l1_reg, l2=l2_reg),  # Régularisation pour les poids d'entrée\n",
    "                   recurrent_regularizer=l1_l2(l1=l1_reg, l2=l2_reg)  # Régularisation pour les poids récurrents\n",
    "                  ))\n",
    "    #model.add(Flatten())\n",
    "    model.add(Dense(1))\n",
    "    model.compile(optimizer=optimizer, loss=loss, metrics=[custom_mape, custom_mae])\n",
    "    return model"
   ]
  },
  {
   "cell_type": "markdown",
   "id": "6c48ea6a",
   "metadata": {},
   "source": [
    "## Scale data"
   ]
  },
  {
   "cell_type": "code",
   "execution_count": 6,
   "id": "fcf569ba",
   "metadata": {
    "ExecuteTime": {
     "end_time": "2023-08-23T11:34:21.278233Z",
     "start_time": "2023-08-23T11:34:21.276134Z"
    },
    "init_cell": true
   },
   "outputs": [],
   "source": [
    "# Scale data between 0 and 1\n",
    "def scale_data(data):\n",
    "    scalers = {}\n",
    "    data_normalized = data.copy()\n",
    "    for column in data.columns:\n",
    "        scaler = MinMaxScaler()\n",
    "        data_normalized[column] = scaler.fit_transform(data[[column]])\n",
    "        scalers[column] = scaler\n",
    "    return data_normalized, scalers"
   ]
  },
  {
   "cell_type": "markdown",
   "id": "25ee4e41",
   "metadata": {},
   "source": [
    "## Data transformation"
   ]
  },
  {
   "cell_type": "code",
   "execution_count": 7,
   "id": "c17765a7",
   "metadata": {
    "ExecuteTime": {
     "end_time": "2023-08-23T11:34:21.281711Z",
     "start_time": "2023-08-23T11:34:21.279223Z"
    },
    "init_cell": true
   },
   "outputs": [],
   "source": [
    "# Define a function to transfrom data for CNN model\n",
    "def transform_data_cnn(data_normalized, n_steps_in, start_date, end_date):    \n",
    "    X, y, dates = [], [], []\n",
    "    # Filter data based on the start and end dates\n",
    "    data_filtered = data_normalized[start_date:end_date]\n",
    "    # Create sequence data of n_steps_in days and n_steps_out days\n",
    "    for i in range(n_steps_in, len(data_filtered)):\n",
    "        X.append(data_filtered.iloc[i-n_steps_in:i])\n",
    "        y.append(data_filtered.iloc[i]['tg1_traffic']) #0 because we just want to predict traffic\n",
    "        dates.append(data_filtered.index[i])\n",
    "    X, y, dates = np.array(X), np.array(y), np.array(dates)\n",
    "    return X, y, dates\n",
    "\n",
    "\n"
   ]
  },
  {
   "cell_type": "markdown",
   "id": "ac121dde",
   "metadata": {},
   "source": [
    "## Transfer learning"
   ]
  },
  {
   "cell_type": "code",
   "execution_count": 8,
   "id": "862fd669",
   "metadata": {
    "ExecuteTime": {
     "end_time": "2023-08-23T11:34:21.287765Z",
     "start_time": "2023-08-23T11:34:21.282784Z"
    },
    "init_cell": true
   },
   "outputs": [],
   "source": [
    "def transfer_learning(X_train, y_train, n_steps_in, model_params, test_dates, y_test, model):\n",
    "    # Initialize empty list to save forecast\n",
    "    daily_predictions = []\n",
    "    eight_day_predictions = [0] * len(test_dates)\n",
    "    \n",
    "    for i, date in enumerate(test_dates):\n",
    "        \n",
    "        # Get traffic of last day to update X_train\n",
    "        if i == 0:\n",
    "            new_traffic_point = y_train[-1] # for first forecast, need to take last traffic in train data\n",
    "        else:\n",
    "            new_traffic_point = y_test[i-1]\n",
    "            \n",
    "        # Create dummies for new datapoint\n",
    "        current_date = test_dates[i] # forecast's day\n",
    "        is_holiday = 1 if current_date in holidays_data['date'].values else 0\n",
    "\n",
    "        # Create new data point with traffic and dummies\n",
    "        new_data_point = [new_traffic_point, is_holiday]\n",
    "        new_data_point_array=np.array([new_data_point])\n",
    "\n",
    "        # Update X_train and y_train\n",
    "        new_X = np.append(X_train[-1][1:], new_data_point_array, axis=0)\n",
    "        X_train = np.append(X_train, [new_X], axis=0)\n",
    "        y_train = np.append(y_train, [y_test[i]])\n",
    "    \n",
    "        # Quick update of model for learning transfer\n",
    "        print('Training for ',current_date)\n",
    "        model.fit(X_train, y_train, epochs=1, verbose=0)\n",
    "\n",
    "        # Make 1-day forecast\n",
    "        \n",
    "        prediction = model.predict(X_train[-1].reshape(1, n_steps_in, 2)) \n",
    "        daily_predictions.append(prediction[0])\n",
    "        \n",
    "        # if current date is a Thursday, need to make a 8-day forecast\n",
    "        if date.weekday() == 3:\n",
    "            eight_days_data = X_train[-1]\n",
    "            local_predictions = []\n",
    "            for k in range(6):\n",
    "                if i + k < len(test_dates):  # Check that the index does not go beyond the length of test_dates\n",
    "                    current_date = test_dates[i+k]\n",
    "                    print(current_date)\n",
    "                    is_holiday = 1 if current_date in holidays_data['date'].values else 0\n",
    "\n",
    "                    # Créez un nouveau point de données avec le trafic et les dummies\n",
    "                    new_prediction_point = [prediction[0][0], is_holiday]\n",
    "                    new_prediction_point_array = np.array([new_prediction_point])\n",
    "                    eight_days_data = np.append(eight_days_data[1:], new_prediction_point_array, axis=0)\n",
    "                    prediction = model.predict(eight_days_data.reshape(1, n_steps_in, 2))\n",
    "                    local_predictions.append(prediction[0])\n",
    "            for j in range(min(5, len(local_predictions)-1)):\n",
    "                index_to_assign = i+2+j\n",
    "                print(index_to_assign)\n",
    "                if index_to_assign < len(eight_day_predictions):\n",
    "                    eight_day_predictions[index_to_assign] = local_predictions[1+j][0]\n",
    "\n",
    "\n",
    "\n",
    "\n",
    "    return daily_predictions, eight_day_predictions\n",
    "\n"
   ]
  },
  {
   "cell_type": "markdown",
   "id": "8babea25",
   "metadata": {},
   "source": [
    "## Rescale data"
   ]
  },
  {
   "cell_type": "code",
   "execution_count": 9,
   "id": "217686ce",
   "metadata": {
    "ExecuteTime": {
     "end_time": "2023-08-23T11:34:21.290507Z",
     "start_time": "2023-08-23T11:34:21.288766Z"
    },
    "init_cell": true
   },
   "outputs": [],
   "source": [
    "def rescale_predictions(predictions, scaler):\n",
    "    predictions_array = np.array(predictions)\n",
    "    return scaler.inverse_transform(predictions_array.reshape(-1, 1))"
   ]
  },
  {
   "cell_type": "markdown",
   "id": "c90a33c5",
   "metadata": {},
   "source": [
    "## Plot test results"
   ]
  },
  {
   "cell_type": "code",
   "execution_count": 10,
   "id": "71e8ad47",
   "metadata": {
    "ExecuteTime": {
     "end_time": "2023-08-23T11:34:21.296351Z",
     "start_time": "2023-08-23T11:34:21.293032Z"
    },
    "init_cell": true
   },
   "outputs": [],
   "source": [
    "def plot_test_results_from_df(df, title):\n",
    "    plt.figure(figsize=(15, 7))\n",
    "    plt.title(title)\n",
    "    \n",
    "    # Extraire les données du DataFrame\n",
    "    test_dates = df.index\n",
    "    y_test = df['Trafic TG1'].values\n",
    "    y_test_forecast = df['Prévision globale'].values\n",
    "    daily_forecast = df['Prévision journalière'].values\n",
    "    weekly_forecast = df['Prévision hebdomadaire'].values\n",
    "\n",
    "    # Remplir la zone d'erreur acceptable (+-5%)\n",
    "    upper_bound = [val * 1.05 for val in y_test]\n",
    "    lower_bound = [val * 0.95 for val in y_test]\n",
    "    plt.fill_between(test_dates, upper_bound, lower_bound, color='blue', alpha=0.2)\n",
    "    \n",
    "    # Affichage de la prévision lancée d'un coup\n",
    "    plt.plot(test_dates, y_test_forecast, label='Prévision globale', color='green', marker='o')\n",
    "    \n",
    "    # Affichage des prévisions quotidiennes\n",
    "    plt.plot(test_dates, daily_forecast, label='Prévision journalière', color='red', marker='x')\n",
    "    \n",
    "    # Affichage des prévisions hebdomadaires\n",
    "    plt.plot(test_dates, weekly_forecast, label='Prévision hebdomadaire', color='purple', marker='s')\n",
    "    \n",
    "    # Affichage du trafic réel    \n",
    "    plt.plot(test_dates, y_test, label='Trafic réel', color='blue', linewidth=2)\n",
    "    \n",
    "\n",
    "    plt.xlabel('Date')\n",
    "    plt.ylabel('Trafic')\n",
    "    plt.legend()\n",
    "    plt.grid(False)\n",
    "    plt.show()"
   ]
  },
  {
   "cell_type": "markdown",
   "id": "4613fd4e",
   "metadata": {},
   "source": [
    "## Plot train results"
   ]
  },
  {
   "cell_type": "code",
   "execution_count": 11,
   "id": "e5d8fa82",
   "metadata": {
    "ExecuteTime": {
     "end_time": "2023-08-23T11:34:21.300238Z",
     "start_time": "2023-08-23T11:34:21.297433Z"
    },
    "init_cell": true
   },
   "outputs": [],
   "source": [
    "def plot_train_results_from_df(df, title):\n",
    "    plt.figure(figsize=(15, 7))\n",
    "    plt.title(title)\n",
    "    \n",
    "    # Extraire les données du DataFrame\n",
    "    train_dates = df.index\n",
    "    y_train = df['Trafic TG1'].values\n",
    "    y_train_forecast = df['Prévision globale'].values\n",
    "\n",
    "    # Remplir la zone d'erreur acceptable (+-5%)\n",
    "    upper_bound = [val * 1.05 for val in y_train]\n",
    "    lower_bound = [val * 0.95 for val in y_train]\n",
    "    plt.fill_between(train_dates, upper_bound, lower_bound, color='blue', alpha=0.2)\n",
    "    \n",
    "\n",
    "    \n",
    "    \n",
    "    # Affichage du trafic réel    \n",
    "    plt.plot(train_dates, y_train, label='Trafic réel', color='blue')\n",
    "    # Affichage de la prévision lancée d'un coup\n",
    "    plt.plot(train_dates, y_train_forecast, label='Prévision globale', color='green', linewidth = 2)\n",
    "    \n",
    "\n",
    "    plt.xlabel('Date')\n",
    "    plt.ylabel('Trafic')\n",
    "    plt.legend()\n",
    "    plt.grid(False)\n",
    "    plt.show()"
   ]
  },
  {
   "cell_type": "markdown",
   "id": "762ee3f9",
   "metadata": {},
   "source": [
    "## Calculate MAPE"
   ]
  },
  {
   "cell_type": "code",
   "execution_count": 12,
   "id": "8008efe2",
   "metadata": {
    "ExecuteTime": {
     "end_time": "2023-08-23T11:34:21.303508Z",
     "start_time": "2023-08-23T11:34:21.301348Z"
    },
    "init_cell": true
   },
   "outputs": [],
   "source": [
    "def calculate_mape(actual, forecast):\n",
    "    # Éviter la division par zéro et les erreurs NaN\n",
    "    mask = actual != 0\n",
    "    return np.mean(np.abs((actual[mask] - forecast[mask]) / actual[mask])) * 100\n",
    "\n",
    "def compute_mape_for_columns(df, actual_col, forecast_cols):\n",
    "    mape_values = {}\n",
    "    for col in forecast_cols:\n",
    "        valid_forecast_mask = ~df[col].isna()\n",
    "        mape = calculate_mape(df[actual_col][valid_forecast_mask], df[col][valid_forecast_mask])\n",
    "        mape_values[col] = mape\n",
    "    return mape_values"
   ]
  },
  {
   "cell_type": "markdown",
   "id": "f3599397",
   "metadata": {},
   "source": [
    "# Data preparation"
   ]
  },
  {
   "cell_type": "markdown",
   "id": "c8444515",
   "metadata": {},
   "source": [
    "Take out saturday and sunday of data, normalized the data before creating training and test dataset.\n",
    "<br>\n",
    "n_steps_in is the number of week $\\times$ number of day in a week (here 5)"
   ]
  },
  {
   "cell_type": "code",
   "execution_count": 13,
   "id": "b3413458",
   "metadata": {
    "ExecuteTime": {
     "end_time": "2023-08-23T12:13:47.969420Z",
     "start_time": "2023-08-23T12:13:47.452423Z"
    },
    "scrolled": true
   },
   "outputs": [],
   "source": [
    "data = data[(data.index.dayofweek != 5) & (data.index.dayofweek != 6)]\n",
    "\n",
    "data_normalized, scaler = scale_data(data)\n",
    "\n",
    "n_steps_in =260\n",
    "\n",
    "X_train, y_train, train_dates = transform_data_cnn(data_normalized, \n",
    "                                                   n_steps_in,  \n",
    "                                                   '2017-01-01', \n",
    "                                                   '2021-12-31')\n",
    "\n",
    "X_test, y_test, test_dates = transform_data_cnn(data_normalized, \n",
    "                                                n_steps_in, \n",
    "                                                '2022-01-01', \n",
    "                                                '2023-01-15')"
   ]
  },
  {
   "cell_type": "markdown",
   "id": "5d3c1f80",
   "metadata": {},
   "source": [
    "# Model creation"
   ]
  },
  {
   "cell_type": "markdown",
   "id": "eb6f444b",
   "metadata": {},
   "source": [
    "## Model parameters"
   ]
  },
  {
   "cell_type": "code",
   "execution_count": 14,
   "id": "9a1f9b36",
   "metadata": {
    "ExecuteTime": {
     "end_time": "2023-08-23T12:14:21.397058Z",
     "start_time": "2023-08-23T12:14:21.384297Z"
    }
   },
   "outputs": [],
   "source": [
    "# Paramètres du modèle\n",
    "model_params = {\n",
    "    \"units\": 1000,\n",
    "    \"n_steps_in\": n_steps_in,\n",
    "    \"n_features\": 2,\n",
    "    \"optimizer\": 'adam',\n",
    "    \"loss\": custom_mape#,\n",
    "    #\"l1_reg\" : 0.001,\n",
    "    #\"l2_reg\" : 0.001\n",
    "}"
   ]
  },
  {
   "cell_type": "markdown",
   "id": "04f9483c",
   "metadata": {},
   "source": [
    "## Model creation"
   ]
  },
  {
   "cell_type": "code",
   "execution_count": 17,
   "id": "4776dfe2",
   "metadata": {
    "ExecuteTime": {
     "end_time": "2023-08-23T12:25:14.914393Z",
     "start_time": "2023-08-23T12:14:48.608729Z"
    },
    "scrolled": false
   },
   "outputs": [
    {
     "name": "stderr",
     "output_type": "stream",
     "text": [
      "2023-08-23 13:14:48.778861: I metal_plugin/src/device/metal_device.cc:1154] Metal device set to: Apple M1\n",
      "2023-08-23 13:14:48.781093: I metal_plugin/src/device/metal_device.cc:296] systemMemory: 8.00 GB\n",
      "2023-08-23 13:14:48.781110: I metal_plugin/src/device/metal_device.cc:313] maxCacheSize: 2.67 GB\n",
      "2023-08-23 13:14:48.782236: I tensorflow/core/common_runtime/pluggable_device/pluggable_device_factory.cc:303] Could not identify NUMA node of platform GPU ID 0, defaulting to 0. Your kernel may not have been built with NUMA support.\n",
      "2023-08-23 13:14:48.782271: I tensorflow/core/common_runtime/pluggable_device/pluggable_device_factory.cc:269] Created TensorFlow device (/job:localhost/replica:0/task:0/device:GPU:0 with 0 MB memory) -> physical PluggableDevice (device: 0, name: METAL, pci bus id: <undefined>)\n"
     ]
    },
    {
     "name": "stdout",
     "output_type": "stream",
     "text": [
      "Epoch 1/40\n"
     ]
    },
    {
     "name": "stderr",
     "output_type": "stream",
     "text": [
      "2023-08-23 13:14:51.198816: I tensorflow/core/grappler/optimizers/custom_graph_optimizer_registry.cc:114] Plugin optimizer for device_type GPU is enabled.\n",
      "2023-08-23 13:14:51.313325: I tensorflow/core/grappler/optimizers/custom_graph_optimizer_registry.cc:114] Plugin optimizer for device_type GPU is enabled.\n",
      "2023-08-23 13:14:52.315905: I tensorflow/core/grappler/optimizers/custom_graph_optimizer_registry.cc:114] Plugin optimizer for device_type GPU is enabled.\n"
     ]
    },
    {
     "name": "stdout",
     "output_type": "stream",
     "text": [
      "33/33 [==============================] - 18s 467ms/step - loss: 137.2300 - custom_mape: 136.0368 - custom_mae: 49.4750\n",
      "Epoch 2/40\n",
      "33/33 [==============================] - 15s 458ms/step - loss: 32.8845 - custom_mape: 32.8484 - custom_mae: 8.4142\n",
      "Epoch 3/40\n",
      "33/33 [==============================] - 18s 558ms/step - loss: 32.0235 - custom_mape: 31.8225 - custom_mae: 8.2038\n",
      "Epoch 4/40\n",
      "33/33 [==============================] - 16s 478ms/step - loss: 30.4458 - custom_mape: 30.4078 - custom_mae: 7.2688\n",
      "Epoch 5/40\n",
      "33/33 [==============================] - 19s 589ms/step - loss: 32.5913 - custom_mape: 32.3808 - custom_mae: 8.3203\n",
      "Epoch 6/40\n",
      "33/33 [==============================] - 17s 500ms/step - loss: 33.4506 - custom_mape: 33.2499 - custom_mae: 9.4380\n",
      "Epoch 7/40\n",
      "33/33 [==============================] - 15s 444ms/step - loss: 30.1180 - custom_mape: 30.0351 - custom_mae: 7.0069\n",
      "Epoch 8/40\n",
      "33/33 [==============================] - 14s 434ms/step - loss: 29.2696 - custom_mape: 29.1207 - custom_mae: 7.1731\n",
      "Epoch 9/40\n",
      "33/33 [==============================] - 14s 435ms/step - loss: 29.5389 - custom_mape: 29.4500 - custom_mae: 7.4849\n",
      "Epoch 10/40\n",
      "33/33 [==============================] - 15s 446ms/step - loss: 29.6323 - custom_mape: 29.5469 - custom_mae: 7.1771\n",
      "Epoch 11/40\n",
      "33/33 [==============================] - 18s 543ms/step - loss: 30.6196 - custom_mape: 30.5133 - custom_mae: 7.3212\n",
      "Epoch 12/40\n",
      "33/33 [==============================] - 15s 462ms/step - loss: 29.6221 - custom_mape: 29.4458 - custom_mae: 7.3127\n",
      "Epoch 13/40\n",
      "33/33 [==============================] - 15s 465ms/step - loss: 30.0323 - custom_mape: 30.0152 - custom_mae: 7.0651\n",
      "Epoch 14/40\n",
      "33/33 [==============================] - 15s 459ms/step - loss: 28.3126 - custom_mape: 28.4939 - custom_mae: 6.6132\n",
      "Epoch 15/40\n",
      "33/33 [==============================] - 15s 458ms/step - loss: 28.7653 - custom_mape: 28.6832 - custom_mae: 6.7989\n",
      "Epoch 16/40\n",
      "33/33 [==============================] - 16s 486ms/step - loss: 28.5743 - custom_mape: 28.4307 - custom_mae: 6.8589\n",
      "Epoch 17/40\n",
      "33/33 [==============================] - 16s 481ms/step - loss: 28.8205 - custom_mape: 28.8621 - custom_mae: 6.7079\n",
      "Epoch 18/40\n",
      "33/33 [==============================] - 15s 442ms/step - loss: 29.0116 - custom_mape: 28.9293 - custom_mae: 6.9877\n",
      "Epoch 19/40\n",
      "33/33 [==============================] - 15s 444ms/step - loss: 27.9109 - custom_mape: 27.8046 - custom_mae: 6.6579\n",
      "Epoch 20/40\n",
      "33/33 [==============================] - 14s 437ms/step - loss: 27.3867 - custom_mape: 27.2867 - custom_mae: 6.4459\n",
      "Epoch 21/40\n",
      "33/33 [==============================] - 14s 434ms/step - loss: 29.2287 - custom_mape: 29.1081 - custom_mae: 7.1465\n",
      "Epoch 22/40\n",
      "33/33 [==============================] - 15s 441ms/step - loss: 28.4837 - custom_mape: 28.3850 - custom_mae: 6.7580\n",
      "Epoch 23/40\n",
      "33/33 [==============================] - 14s 407ms/step - loss: 29.7354 - custom_mape: 29.6431 - custom_mae: 7.2950\n",
      "Epoch 24/40\n",
      "33/33 [==============================] - 15s 447ms/step - loss: 28.7474 - custom_mape: 28.6070 - custom_mae: 6.8800\n",
      "Epoch 25/40\n",
      "33/33 [==============================] - 14s 429ms/step - loss: 28.0554 - custom_mape: 28.3212 - custom_mae: 6.5347\n",
      "Epoch 26/40\n",
      "33/33 [==============================] - 16s 489ms/step - loss: 28.0528 - custom_mape: 27.9612 - custom_mae: 6.6192\n",
      "Epoch 27/40\n",
      "33/33 [==============================] - 16s 489ms/step - loss: 27.8499 - custom_mape: 27.7498 - custom_mae: 6.5993\n",
      "Epoch 28/40\n",
      "33/33 [==============================] - 15s 443ms/step - loss: 28.5716 - custom_mape: 28.4670 - custom_mae: 6.7116\n",
      "Epoch 29/40\n",
      "33/33 [==============================] - 16s 475ms/step - loss: 28.2440 - custom_mape: 28.0781 - custom_mae: 6.7285\n",
      "Epoch 30/40\n",
      "33/33 [==============================] - 16s 492ms/step - loss: 28.4882 - custom_mape: 28.8242 - custom_mae: 6.4111\n",
      "Epoch 31/40\n",
      "33/33 [==============================] - 16s 490ms/step - loss: 28.6887 - custom_mape: 28.5892 - custom_mae: 7.1468\n",
      "Epoch 32/40\n",
      "33/33 [==============================] - 16s 492ms/step - loss: 29.1417 - custom_mape: 29.5243 - custom_mae: 7.0904\n",
      "Epoch 33/40\n",
      "33/33 [==============================] - 16s 482ms/step - loss: 27.7219 - custom_mape: 27.5588 - custom_mae: 6.7106\n",
      "Epoch 34/40\n",
      "33/33 [==============================] - 15s 456ms/step - loss: 27.6402 - custom_mape: 27.4824 - custom_mae: 6.5053\n",
      "Epoch 35/40\n",
      "33/33 [==============================] - 14s 438ms/step - loss: 27.3488 - custom_mape: 27.1959 - custom_mae: 6.6127\n",
      "Epoch 36/40\n",
      "33/33 [==============================] - 16s 482ms/step - loss: 27.4358 - custom_mape: 27.3148 - custom_mae: 6.4323\n",
      "Epoch 37/40\n",
      "33/33 [==============================] - 16s 475ms/step - loss: 28.5779 - custom_mape: 28.4271 - custom_mae: 6.4513\n",
      "Epoch 38/40\n",
      "33/33 [==============================] - 17s 522ms/step - loss: 27.0858 - custom_mape: 26.9735 - custom_mae: 6.2913\n",
      "Epoch 39/40\n",
      "33/33 [==============================] - 17s 502ms/step - loss: 27.6255 - custom_mape: 27.4594 - custom_mae: 6.5280\n",
      "Epoch 40/40\n",
      "33/33 [==============================] - 14s 435ms/step - loss: 27.3882 - custom_mape: 27.4118 - custom_mae: 6.3722\n"
     ]
    },
    {
     "data": {
      "text/plain": [
       "<keras.src.callbacks.History at 0x282458d60>"
      ]
     },
     "execution_count": 17,
     "metadata": {},
     "output_type": "execute_result"
    }
   ],
   "source": [
    "lstm_model = create_lstm_model(**model_params)\n",
    "lstm_model.fit(X_train, y_train, epochs=40)"
   ]
  },
  {
   "cell_type": "markdown",
   "id": "86971a5b",
   "metadata": {},
   "source": [
    "## Global forecast"
   ]
  },
  {
   "cell_type": "code",
   "execution_count": 18,
   "id": "7de72fe2",
   "metadata": {
    "ExecuteTime": {
     "end_time": "2023-08-23T12:25:26.194318Z",
     "start_time": "2023-08-23T12:25:17.306146Z"
    },
    "scrolled": true
   },
   "outputs": [
    {
     "name": "stderr",
     "output_type": "stream",
     "text": [
      "2023-08-23 13:25:17.669863: I tensorflow/core/grappler/optimizers/custom_graph_optimizer_registry.cc:114] Plugin optimizer for device_type GPU is enabled.\n",
      "2023-08-23 13:25:17.730187: I tensorflow/core/grappler/optimizers/custom_graph_optimizer_registry.cc:114] Plugin optimizer for device_type GPU is enabled.\n"
     ]
    },
    {
     "name": "stdout",
     "output_type": "stream",
     "text": [
      "33/33 [==============================] - 8s 217ms/step\n",
      "1/1 [==============================] - 1s 528ms/step\n"
     ]
    }
   ],
   "source": [
    "y_train_forecast = lstm_model.predict(X_train)\n",
    "y_test_forecast = lstm_model.predict(X_test)"
   ]
  },
  {
   "cell_type": "markdown",
   "id": "e7e3f7f8",
   "metadata": {},
   "source": [
    "## Daily and Weekly Forecast"
   ]
  },
  {
   "cell_type": "code",
   "execution_count": null,
   "id": "79139c06",
   "metadata": {
    "ExecuteTime": {
     "start_time": "2023-08-23T12:25:27.836Z"
    },
    "scrolled": true
   },
   "outputs": [
    {
     "name": "stdout",
     "output_type": "stream",
     "text": [
      "Training for  2023-01-02 00:00:00\n",
      "1/1 [==============================] - 1s 1s/step\n",
      "Training for  2023-01-03 00:00:00\n",
      "1/1 [==============================] - 0s 55ms/step\n",
      "Training for  2023-01-04 00:00:00\n",
      "1/1 [==============================] - 0s 68ms/step\n",
      "Training for  2023-01-05 00:00:00\n",
      "1/1 [==============================] - 0s 50ms/step\n",
      "2023-01-05 00:00:00\n",
      "1/1 [==============================] - 0s 60ms/step\n",
      "2023-01-06 00:00:00\n",
      "1/1 [==============================] - 0s 38ms/step\n",
      "2023-01-09 00:00:00\n",
      "1/1 [==============================] - 0s 41ms/step\n",
      "2023-01-10 00:00:00\n",
      "1/1 [==============================] - 0s 43ms/step\n",
      "2023-01-11 00:00:00\n",
      "1/1 [==============================] - 0s 39ms/step\n",
      "2023-01-12 00:00:00\n",
      "1/1 [==============================] - 0s 39ms/step\n",
      "5\n",
      "6\n",
      "7\n",
      "8\n",
      "9\n",
      "Training for  2023-01-06 00:00:00\n",
      "1/1 [==============================] - 0s 48ms/step\n",
      "Training for  2023-01-09 00:00:00\n",
      "1/1 [==============================] - 0s 45ms/step\n",
      "Training for  2023-01-10 00:00:00\n",
      "1/1 [==============================] - 0s 52ms/step\n",
      "Training for  2023-01-11 00:00:00\n",
      "1/1 [==============================] - 0s 114ms/step\n",
      "Training for  2023-01-12 00:00:00\n"
     ]
    }
   ],
   "source": [
    "start_time = time.time()\n",
    "daily_forecast, weekly_forecast = transfer_learning(X_train,y_train,n_steps_in,model_params,test_dates,y_test,lstm_model)\n",
    "print(\"--- Transfert d'apprentissage: %s seconds ---\" % (time.time() - start_time))"
   ]
  },
  {
   "cell_type": "markdown",
   "id": "1f162591",
   "metadata": {},
   "source": [
    "# Data analysis"
   ]
  },
  {
   "cell_type": "markdown",
   "id": "5a50e4f8",
   "metadata": {},
   "source": [
    "## Rescale data"
   ]
  },
  {
   "cell_type": "code",
   "execution_count": null,
   "id": "c2657b04",
   "metadata": {
    "ExecuteTime": {
     "end_time": "2023-08-23T08:55:02.735955Z",
     "start_time": "2023-08-23T08:55:02.706028Z"
    }
   },
   "outputs": [],
   "source": [
    "y_train_forecast_rescaled = rescale_predictions(y_train_forecast, scaler['tg1_traffic'])\n",
    "y_train_rescaled = rescale_predictions(y_train, scaler['tg1_traffic'])\n",
    "\n",
    "\n",
    "y_test_forecast_rescaled = rescale_predictions(y_test_forecast, scaler['tg1_traffic'])\n",
    "y_test_rescaled = rescale_predictions(y_test, scaler['tg1_traffic'])\n",
    "\n",
    "\n",
    "\n",
    "daily_forecast_rescaled = rescale_predictions(daily_forecast, scaler['tg1_traffic'])\n",
    "weekly_forecast_rescaled = rescale_predictions(weekly_forecast, scaler['tg1_traffic'])"
   ]
  },
  {
   "cell_type": "markdown",
   "id": "72279ef3",
   "metadata": {},
   "source": [
    "## Concatenate forecast in dataframe"
   ]
  },
  {
   "cell_type": "code",
   "execution_count": null,
   "id": "c3f94fba",
   "metadata": {
    "ExecuteTime": {
     "end_time": "2023-08-23T08:55:05.695216Z",
     "start_time": "2023-08-23T08:55:05.664968Z"
    },
    "scrolled": true
   },
   "outputs": [],
   "source": [
    "data_train_forecast = pd.DataFrame({\n",
    "    'Trafic TG1' : y_train_rescaled.flatten().tolist() ,\n",
    "    'Prévision globale' : y_train_forecast_rescaled.flatten().tolist()\n",
    "                            }, index = train_dates.tolist())\n",
    "\n",
    "data_test_forecast = pd.DataFrame({\n",
    "    'Trafic TG1' : y_test_rescaled.flatten().tolist() ,\n",
    "    'Prévision globale' : y_test_forecast_rescaled.flatten().tolist(),\n",
    "    'Prévision hebdomadaire' : weekly_forecast_rescaled.flatten().tolist(),\n",
    "    'Prévision journalière' : daily_forecast_rescaled.flatten().tolist()  \n",
    "                            }, index = test_dates.tolist())"
   ]
  },
  {
   "cell_type": "markdown",
   "id": "e00d8df0",
   "metadata": {},
   "source": [
    "## Plot results"
   ]
  },
  {
   "cell_type": "code",
   "execution_count": null,
   "id": "25d82f6c",
   "metadata": {
    "ExecuteTime": {
     "end_time": "2023-08-23T08:55:08.015428Z",
     "start_time": "2023-08-23T08:55:07.818953Z"
    },
    "scrolled": false
   },
   "outputs": [],
   "source": [
    "plot_test_results_from_df(data_test_forecast, 'Transfert d’apprentissage')"
   ]
  },
  {
   "cell_type": "code",
   "execution_count": null,
   "id": "e8622358",
   "metadata": {
    "ExecuteTime": {
     "end_time": "2023-08-23T08:55:13.214609Z",
     "start_time": "2023-08-23T08:55:13.020247Z"
    },
    "scrolled": false
   },
   "outputs": [],
   "source": [
    "plot_train_results_from_df(data_train_forecast, \"Résultats d'entraînement\")"
   ]
  },
  {
   "cell_type": "markdown",
   "id": "f5350354",
   "metadata": {
    "ExecuteTime": {
     "end_time": "2023-08-16T09:31:54.755071Z",
     "start_time": "2023-08-16T09:31:54.746524Z"
    }
   },
   "source": [
    "## Metrics"
   ]
  },
  {
   "cell_type": "code",
   "execution_count": null,
   "id": "bcd295f5",
   "metadata": {
    "ExecuteTime": {
     "end_time": "2023-08-23T08:55:16.909608Z",
     "start_time": "2023-08-23T08:55:16.890774Z"
    },
    "scrolled": true
   },
   "outputs": [],
   "source": [
    "# Utilisation de la fonction:\n",
    "forecast_columns = ['Prévision globale', 'Prévision journalière', 'Prévision hebdomadaire']\n",
    "mapes = compute_mape_for_columns(data_test_forecast, 'Trafic TG1', forecast_columns)\n",
    "\n",
    "for col, mape in mapes.items():\n",
    "    print(f\"MAPE {col} : {mape:.2f}%\")"
   ]
  },
  {
   "cell_type": "code",
   "execution_count": null,
   "id": "d3a8e8af",
   "metadata": {
    "ExecuteTime": {
     "end_time": "2023-08-23T08:55:20.011845Z",
     "start_time": "2023-08-23T08:55:19.999662Z"
    },
    "scrolled": true
   },
   "outputs": [],
   "source": [
    "# Utilisation de la fonction:\n",
    "forecast_columns = ['Prévision globale']\n",
    "mapes = compute_mape_for_columns(data_train_forecast, 'Trafic TG1', forecast_columns)\n",
    "\n",
    "for col, mape in mapes.items():\n",
    "    print(f\"MAPE {col} : {mape:.2f}%\")"
   ]
  },
  {
   "cell_type": "code",
   "execution_count": null,
   "id": "65dd4588",
   "metadata": {},
   "outputs": [],
   "source": []
  }
 ],
 "metadata": {
  "celltoolbar": "Initialization Cell",
  "hide_input": false,
  "kernelspec": {
   "display_name": "Python 3.10 (tensorflowspyder)",
   "language": "python",
   "name": "tensorflow"
  },
  "language_info": {
   "codemirror_mode": {
    "name": "ipython",
    "version": 3
   },
   "file_extension": ".py",
   "mimetype": "text/x-python",
   "name": "python",
   "nbconvert_exporter": "python",
   "pygments_lexer": "ipython3",
   "version": "3.10.12"
  },
  "toc": {
   "base_numbering": 1,
   "nav_menu": {},
   "number_sections": true,
   "sideBar": true,
   "skip_h1_title": false,
   "title_cell": "Table of Contents",
   "title_sidebar": "Contents",
   "toc_cell": false,
   "toc_position": {},
   "toc_section_display": true,
   "toc_window_display": false
  },
  "varInspector": {
   "cols": {
    "lenName": 16,
    "lenType": 16,
    "lenVar": 40
   },
   "kernels_config": {
    "python": {
     "delete_cmd_postfix": "",
     "delete_cmd_prefix": "del ",
     "library": "var_list.py",
     "varRefreshCmd": "print(var_dic_list())"
    },
    "r": {
     "delete_cmd_postfix": ") ",
     "delete_cmd_prefix": "rm(",
     "library": "var_list.r",
     "varRefreshCmd": "cat(var_dic_list()) "
    }
   },
   "types_to_exclude": [
    "module",
    "function",
    "builtin_function_or_method",
    "instance",
    "_Feature"
   ],
   "window_display": false
  }
 },
 "nbformat": 4,
 "nbformat_minor": 5
}
