{
 "cells": [
  {
   "cell_type": "markdown",
   "id": "774d8fcc",
   "metadata": {},
   "source": [
    "# Data preparation"
   ]
  },
  {
   "cell_type": "markdown",
   "id": "afedcc88",
   "metadata": {},
   "source": [
    "## Library import"
   ]
  },
  {
   "cell_type": "code",
   "execution_count": 1,
   "id": "d8e4897d",
   "metadata": {
    "ExecuteTime": {
     "end_time": "2023-08-16T13:59:29.238340Z",
     "start_time": "2023-08-16T13:59:25.762161Z"
    },
    "hide_input": false
   },
   "outputs": [],
   "source": [
    "import pandas as pd\n",
    "import numpy as np\n",
    "\n",
    "import tensorflow as tf\n",
    "\n",
    "from tensorflow.keras.models import Sequential\n",
    "from tensorflow.keras.layers import Dense, LSTM, Conv1D, Flatten\n",
    "from tensorflow.keras.optimizers import legacy\n",
    "\n",
    "from sklearn.preprocessing import MinMaxScaler\n",
    "\n",
    "import matplotlib\n",
    "import matplotlib.pyplot as plt\n",
    "import matplotlib.dates as mdates\n",
    "import matplotlib.font_manager as font_manager\n",
    "\n",
    "import time"
   ]
  },
  {
   "cell_type": "markdown",
   "id": "cf3a997e",
   "metadata": {},
   "source": [
    "## Use Colissimo font for Matplotlib"
   ]
  },
  {
   "cell_type": "code",
   "execution_count": 2,
   "id": "652923aa",
   "metadata": {
    "ExecuteTime": {
     "end_time": "2023-08-16T13:59:29.260593Z",
     "start_time": "2023-08-16T13:59:29.250712Z"
    }
   },
   "outputs": [],
   "source": [
    "font_path = '/Users/anthony/spyder-py3/Font/Monserrat/Montserrat-Regular.otf'\n",
    "\n",
    "font_manager.fontManager.addfont(font_path)\n",
    "\n",
    "plt.rcParams['font.family'] = 'Montserrat'"
   ]
  },
  {
   "cell_type": "markdown",
   "id": "e224b6f5",
   "metadata": {},
   "source": [
    "## Read dataset"
   ]
  },
  {
   "cell_type": "code",
   "execution_count": 3,
   "id": "92576b53",
   "metadata": {
    "ExecuteTime": {
     "end_time": "2023-08-16T13:59:32.174790Z",
     "start_time": "2023-08-16T13:59:32.001822Z"
    }
   },
   "outputs": [],
   "source": [
    "# Read main data\n",
    "data = pd.read_excel('/Users/anthony/spyder-py3/ML/traffic_tg1.xlsx', index_col='date')\n",
    "data.index = pd.to_datetime(data.index)\n",
    "\n",
    "# Read holiday day data\n",
    "holidays_data = pd.read_excel('/Users/anthony/spyder-py3/ML/public_holiday.xlsx')\n",
    "holidays_data['date'] = pd.to_datetime(holidays_data['date'])"
   ]
  },
  {
   "cell_type": "markdown",
   "id": "15258895",
   "metadata": {},
   "source": [
    "## Create dummies"
   ]
  },
  {
   "cell_type": "code",
   "execution_count": 4,
   "id": "a03935f2",
   "metadata": {
    "ExecuteTime": {
     "end_time": "2023-08-16T13:59:49.042624Z",
     "start_time": "2023-08-16T13:59:48.996940Z"
    },
    "hide_input": false
   },
   "outputs": [],
   "source": [
    "#Create dummies\n",
    "\n",
    "# Create a dummy for holiday\n",
    "data['is_holiday'] = data.index.isin(holidays_data['date']).astype(int)\n",
    "\n",
    "# Create a dummy for sunday\n",
    "data['is_sunday'] = (data.index.dayofweek == 6).astype(int)"
   ]
  },
  {
   "cell_type": "markdown",
   "id": "6e7bf817",
   "metadata": {
    "ExecuteTime": {
     "end_time": "2023-08-16T09:09:00.296767Z",
     "start_time": "2023-08-16T09:09:00.288788Z"
    },
    "hide_input": false
   },
   "source": [
    "# Function creation"
   ]
  },
  {
   "cell_type": "markdown",
   "id": "af8a8b45",
   "metadata": {
    "ExecuteTime": {
     "end_time": "2023-08-16T12:06:02.999713Z",
     "start_time": "2023-08-16T12:06:02.981026Z"
    }
   },
   "source": [
    "## Custom MAPE/MAE function loss"
   ]
  },
  {
   "cell_type": "code",
   "execution_count": 5,
   "id": "00f91321",
   "metadata": {
    "ExecuteTime": {
     "end_time": "2023-08-16T13:59:53.695447Z",
     "start_time": "2023-08-16T13:59:53.685678Z"
    }
   },
   "outputs": [],
   "source": [
    "def custom_mape(y_true, y_pred):\n",
    "    y_true = tf.cast(y_true, tf.float32)\n",
    "    y_pred = tf.cast(y_pred, tf.float32)\n",
    "    mask = tf.math.greater(y_true, 0)\n",
    "    y_true_masked = tf.boolean_mask(y_true, mask)\n",
    "    y_pred_masked = tf.boolean_mask(y_pred, mask)\n",
    "\n",
    "    diff = tf.abs((y_true_masked - y_pred_masked) / y_true_masked)\n",
    "    return 100. * tf.reduce_mean(diff)\n",
    "\n",
    "def custom_mae(y_true, y_pred):\n",
    "    y_true = tf.cast(y_true, tf.float32)\n",
    "    y_pred = tf.cast(y_pred, tf.float32)\n",
    "    mask = tf.math.greater(y_true, 0)\n",
    "    y_true_masked = tf.boolean_mask(y_true, mask)\n",
    "    y_pred_masked = tf.boolean_mask(y_pred, mask)\n",
    "\n",
    "    diff = tf.abs(y_true_masked - y_pred_masked)\n",
    "    return 100. * tf.reduce_mean(diff)"
   ]
  },
  {
   "cell_type": "markdown",
   "id": "f63ac876",
   "metadata": {},
   "source": [
    "## CNN model"
   ]
  },
  {
   "cell_type": "code",
   "execution_count": 6,
   "id": "2219196c",
   "metadata": {
    "ExecuteTime": {
     "end_time": "2023-08-16T14:00:00.634494Z",
     "start_time": "2023-08-16T14:00:00.628895Z"
    },
    "hide_input": true
   },
   "outputs": [],
   "source": [
    "# Define a function to create a sequential CNN model\n",
    "def create_cnn_model(filters, kernel_size, activation, n_steps_in, n_features, optimizer, loss):\n",
    "    model = Sequential()\n",
    "    model.add(Conv1D(filters=filters, \n",
    "                     kernel_size=kernel_size, \n",
    "                     activation=activation, \n",
    "                     input_shape=(n_steps_in, n_features)))\n",
    "    model.add(Conv1D(filters=filters, \n",
    "                     kernel_size=7, \n",
    "                     activation=activation))\n",
    "    model.add(Flatten())\n",
    "    model.add(Dense(1))\n",
    "    model.compile(optimizer=optimizer, loss=loss, metrics=[custom_mape, custom_mae], run_eagerly=True)\n",
    "    return model"
   ]
  },
  {
   "cell_type": "markdown",
   "id": "6c48ea6a",
   "metadata": {},
   "source": [
    "## Scale data"
   ]
  },
  {
   "cell_type": "code",
   "execution_count": 7,
   "id": "fcf569ba",
   "metadata": {
    "ExecuteTime": {
     "end_time": "2023-08-16T14:00:04.504293Z",
     "start_time": "2023-08-16T14:00:04.496176Z"
    }
   },
   "outputs": [],
   "source": [
    "# Scale data between 0 and 1\n",
    "def scale_data(data):\n",
    "    scalers = {}\n",
    "    data_normalized = data.copy()\n",
    "    for column in data.columns:\n",
    "        scaler = MinMaxScaler()\n",
    "        data_normalized[column] = scaler.fit_transform(data[[column]])\n",
    "        scalers[column] = scaler\n",
    "    return data_normalized, scalers"
   ]
  },
  {
   "cell_type": "markdown",
   "id": "25ee4e41",
   "metadata": {},
   "source": [
    "## Data transformation"
   ]
  },
  {
   "cell_type": "code",
   "execution_count": 8,
   "id": "c17765a7",
   "metadata": {
    "ExecuteTime": {
     "end_time": "2023-08-16T14:00:08.808834Z",
     "start_time": "2023-08-16T14:00:08.799469Z"
    }
   },
   "outputs": [],
   "source": [
    "# Define a function to transfrom data for CNN model\n",
    "def transform_data_cnn(data_normalized, n_steps_in, start_date, end_date):    \n",
    "    X, y, dates = [], [], []\n",
    "    # Filter data based on the start and end dates\n",
    "    data_filtered = data_normalized[start_date:end_date]\n",
    "    # Create sequence data of n_steps_in days and n_steps_out days\n",
    "    for i in range(n_steps_in, len(data_filtered)):\n",
    "        X.append(data_filtered.iloc[i-n_steps_in:i])\n",
    "        y.append(data_filtered.iloc[i]['tg1_traffic']) #0 because we just want to predict traffic\n",
    "        dates.append(data_filtered.index[i])\n",
    "    X, y, dates = np.array(X), np.array(y), np.array(dates)\n",
    "    return X, y, dates\n",
    "\n",
    "\n"
   ]
  },
  {
   "cell_type": "markdown",
   "id": "ac121dde",
   "metadata": {},
   "source": [
    "## Transfer learning"
   ]
  },
  {
   "cell_type": "code",
   "execution_count": 9,
   "id": "862fd669",
   "metadata": {
    "ExecuteTime": {
     "end_time": "2023-08-16T14:01:13.028697Z",
     "start_time": "2023-08-16T14:01:13.008541Z"
    }
   },
   "outputs": [],
   "source": [
    "def transfer_learning(X_train, y_train, n_steps_in, model_params, test_dates, y_test, cnn_model):\n",
    "    # Initialize empty list to save forecast\n",
    "    daily_predictions = []\n",
    "    eight_day_predictions = [0] * len(test_dates)\n",
    "    \n",
    "    for i, date in enumerate(test_dates):\n",
    "        \n",
    "        # Get traffic of last day to update X_train\n",
    "        if i == 0:\n",
    "            new_traffic_point = y_train[-1] # for first forecast, need to take last traffic in train data\n",
    "        else:\n",
    "            new_traffic_point = y_test[i-1]\n",
    "            \n",
    "        # Create dummies for new datapoint\n",
    "        current_date = test_dates[i] # forecast's day\n",
    "        is_holiday = 1 if current_date in holidays_data['date'].values else 0\n",
    "        is_sunday = 1 if current_date.dayofweek == 6 else 0\n",
    "\n",
    "        # Create new data point with traffic and dummies\n",
    "        new_data_point = [new_traffic_point, is_holiday, is_sunday]\n",
    "        new_data_point_array=np.array([new_data_point])\n",
    "\n",
    "        # Update X_train and y_train\n",
    "        new_X = np.append(X_train[-1][1:], new_data_point_array, axis=0)\n",
    "        X_train = np.append(X_train, [new_X], axis=0)\n",
    "        y_train = np.append(y_train, [y_test[i]])\n",
    "    \n",
    "        # Quick update of model for learning transfer\n",
    "        print('Training for ',current_date)\n",
    "        cnn_model.fit(X_train, y_train, epochs=1, verbose=0)\n",
    "\n",
    "        # Make 1-day forecast\n",
    "        \n",
    "        prediction = cnn_model.predict(X_train[-1].reshape(1, n_steps_in, 3)) \n",
    "        daily_predictions.append(prediction[0])\n",
    "        \n",
    "        # if current date is a Thursday, need to make a 8-day forecast\n",
    "        if date.weekday() == 3:\n",
    "            eight_days_data = X_train[-1]\n",
    "            local_predictions = []\n",
    "            for k in range(6):\n",
    "                if i + k < len(test_dates):  # Check that the index does not go beyond the length of test_dates\n",
    "                    current_date = test_dates[i+k]\n",
    "                    print(current_date)\n",
    "                    is_holiday = 1 if current_date in holidays_data['date'].values else 0\n",
    "                    is_sunday = 1 if current_date.dayofweek == 6 else 0\n",
    "\n",
    "                    # Créez un nouveau point de données avec le trafic et les dummies\n",
    "                    new_prediction_point = [prediction[0][0], is_holiday, is_sunday]\n",
    "                    new_prediction_point_array = np.array([new_prediction_point])\n",
    "                    eight_days_data = np.append(eight_days_data[1:], new_prediction_point_array, axis=0)\n",
    "                    prediction = cnn_model.predict(eight_days_data.reshape(1, n_steps_in, 3))\n",
    "                    local_predictions.append(prediction[0])\n",
    "            for j in range(min(5, len(local_predictions)-1)):\n",
    "                index_to_assign = i+2+j\n",
    "                print(index_to_assign)\n",
    "                if index_to_assign < len(eight_day_predictions):\n",
    "                    eight_day_predictions[index_to_assign] = local_predictions[1+j][0]\n",
    "\n",
    "\n",
    "\n",
    "\n",
    "    return daily_predictions, eight_day_predictions\n",
    "\n"
   ]
  },
  {
   "cell_type": "markdown",
   "id": "8babea25",
   "metadata": {},
   "source": [
    "## Rescale data"
   ]
  },
  {
   "cell_type": "code",
   "execution_count": 10,
   "id": "217686ce",
   "metadata": {
    "ExecuteTime": {
     "end_time": "2023-08-16T14:01:16.429308Z",
     "start_time": "2023-08-16T14:01:16.425536Z"
    }
   },
   "outputs": [],
   "source": [
    "def rescale_predictions(predictions, scaler):\n",
    "    predictions_array = np.array(predictions)\n",
    "    return scaler.inverse_transform(predictions_array.reshape(-1, 1))"
   ]
  },
  {
   "cell_type": "markdown",
   "id": "c90a33c5",
   "metadata": {},
   "source": [
    "## Plot test results"
   ]
  },
  {
   "cell_type": "code",
   "execution_count": 11,
   "id": "71e8ad47",
   "metadata": {
    "ExecuteTime": {
     "end_time": "2023-08-16T14:01:19.156280Z",
     "start_time": "2023-08-16T14:01:19.144321Z"
    }
   },
   "outputs": [],
   "source": [
    "def plot_test_results_from_df(df, title):\n",
    "    plt.figure(figsize=(15, 7))\n",
    "    plt.title(title)\n",
    "    \n",
    "    # Extraire les données du DataFrame\n",
    "    test_dates = df.index\n",
    "    y_test = df['Trafic TG1'].values\n",
    "    y_test_forecast = df['Prévision globale'].values\n",
    "    daily_forecast = df['Prévision journalière'].values\n",
    "    weekly_forecast = df['Prévision hebdomadaire'].values\n",
    "\n",
    "    # Remplir la zone d'erreur acceptable (+-5%)\n",
    "    upper_bound = [val * 1.05 for val in y_test]\n",
    "    lower_bound = [val * 0.95 for val in y_test]\n",
    "    plt.fill_between(test_dates, upper_bound, lower_bound, color='blue', alpha=0.2)\n",
    "    \n",
    "    # Affichage de la prévision lancée d'un coup\n",
    "    plt.plot(test_dates, y_test_forecast, label='Prévision globale', color='green', marker='o')\n",
    "    \n",
    "    # Affichage des prévisions quotidiennes\n",
    "    plt.plot(test_dates, daily_forecast, label='Prévision journalière', color='red', marker='x')\n",
    "    \n",
    "    # Affichage des prévisions hebdomadaires\n",
    "    plt.plot(test_dates, weekly_forecast, label='Prévision hebdomadaire', color='purple', marker='s')\n",
    "    \n",
    "    # Affichage du trafic réel    \n",
    "    plt.plot(test_dates, y_test, label='Trafic réel', color='blue', linewidth=2)\n",
    "    \n",
    "\n",
    "    plt.xlabel('Date')\n",
    "    plt.ylabel('Trafic')\n",
    "    plt.legend()\n",
    "    plt.grid(False)\n",
    "    plt.show()"
   ]
  },
  {
   "cell_type": "markdown",
   "id": "3bcac2ca",
   "metadata": {},
   "source": [
    "## Plot train results"
   ]
  },
  {
   "cell_type": "code",
   "execution_count": 12,
   "id": "7720efa8",
   "metadata": {
    "ExecuteTime": {
     "end_time": "2023-08-16T14:01:39.515301Z",
     "start_time": "2023-08-16T14:01:39.501893Z"
    }
   },
   "outputs": [],
   "source": [
    "def plot_train_results_from_df(df, title):\n",
    "    plt.figure(figsize=(15, 7))\n",
    "    plt.title(title)\n",
    "    \n",
    "    # Extraire les données du DataFrame\n",
    "    train_dates = df.index\n",
    "    y_train = df['Trafic TG1'].values\n",
    "    y_train_forecast = df['Prévision globale'].values\n",
    "\n",
    "    # Remplir la zone d'erreur acceptable (+-5%)\n",
    "    upper_bound = [val * 1.05 for val in y_train]\n",
    "    lower_bound = [val * 0.95 for val in y_train]\n",
    "    plt.fill_between(train_dates, upper_bound, lower_bound, color='blue', alpha=0.2)\n",
    "    \n",
    "\n",
    "    \n",
    "    \n",
    "    # Affichage du trafic réel    \n",
    "    plt.plot(train_dates, y_train, label='Trafic réel', color='blue')\n",
    "    # Affichage de la prévision lancée d'un coup\n",
    "    plt.plot(train_dates, y_train_forecast, label='Prévision globale', color='green', linewidth = 2)\n",
    "    \n",
    "\n",
    "    plt.xlabel('Date')\n",
    "    plt.ylabel('Trafic')\n",
    "    plt.legend()\n",
    "    plt.grid(False)\n",
    "    plt.show()"
   ]
  },
  {
   "cell_type": "markdown",
   "id": "01ffae59",
   "metadata": {},
   "source": [
    "## Calculate MAPE"
   ]
  },
  {
   "cell_type": "code",
   "execution_count": 13,
   "id": "5c3b50b5",
   "metadata": {
    "ExecuteTime": {
     "end_time": "2023-08-16T14:01:40.931967Z",
     "start_time": "2023-08-16T14:01:40.923631Z"
    }
   },
   "outputs": [],
   "source": [
    "def calculate_mape(actual, forecast):\n",
    "    # Éviter la division par zéro et les erreurs NaN\n",
    "    mask = actual != 0\n",
    "    return np.mean(np.abs((actual[mask] - forecast[mask]) / actual[mask])) * 100\n",
    "\n",
    "def compute_mape_for_columns(df, actual_col, forecast_cols):\n",
    "    mape_values = {}\n",
    "    for col in forecast_cols:\n",
    "        valid_forecast_mask = ~df[col].isna()\n",
    "        mape = calculate_mape(df[actual_col][valid_forecast_mask], df[col][valid_forecast_mask])\n",
    "        mape_values[col] = mape\n",
    "    return mape_values"
   ]
  },
  {
   "cell_type": "markdown",
   "id": "f3599397",
   "metadata": {},
   "source": [
    "# Data preparation"
   ]
  },
  {
   "cell_type": "markdown",
   "id": "c8444515",
   "metadata": {},
   "source": [
    "Normalized the data before creating training and test dataset.\n",
    "<br>\n",
    "n_steps_in is the number of week $\\times$ number of day in a week (here 7)"
   ]
  },
  {
   "cell_type": "code",
   "execution_count": 14,
   "id": "b3413458",
   "metadata": {
    "ExecuteTime": {
     "end_time": "2023-08-16T14:02:07.697293Z",
     "start_time": "2023-08-16T14:02:07.550163Z"
    },
    "scrolled": true
   },
   "outputs": [],
   "source": [
    "data_normalized, scaler = scale_data(data)\n",
    "\n",
    "n_steps_in =365\n",
    "\n",
    "X_train, y_train, train_dates = transform_data_cnn(data_normalized, \n",
    "                                                   n_steps_in,  \n",
    "                                                   '2017-01-01', \n",
    "                                                   '2021-12-31')\n",
    "\n",
    "X_test, y_test, test_dates = transform_data_cnn(data_normalized, \n",
    "                                                n_steps_in, \n",
    "                                                '2022-01-01', \n",
    "                                                '2023-01-15')"
   ]
  },
  {
   "cell_type": "markdown",
   "id": "5d3c1f80",
   "metadata": {},
   "source": [
    "# Model creation"
   ]
  },
  {
   "cell_type": "markdown",
   "id": "eb6f444b",
   "metadata": {},
   "source": [
    "## Model parameters"
   ]
  },
  {
   "cell_type": "code",
   "execution_count": 15,
   "id": "9a1f9b36",
   "metadata": {
    "ExecuteTime": {
     "end_time": "2023-08-16T14:02:13.677039Z",
     "start_time": "2023-08-16T14:02:13.673630Z"
    }
   },
   "outputs": [],
   "source": [
    "# Paramètres du modèle\n",
    "model_params = {\n",
    "    \"filters\": 32,\n",
    "    \"kernel_size\": 7,\n",
    "    \"activation\": \"relu\",\n",
    "    \"n_steps_in\": n_steps_in,\n",
    "    \"n_features\": 3,\n",
    "    \"optimizer\": 'adam',\n",
    "    \"loss\": custom_mape\n",
    "}"
   ]
  },
  {
   "cell_type": "markdown",
   "id": "04f9483c",
   "metadata": {},
   "source": [
    "## Model creation"
   ]
  },
  {
   "cell_type": "code",
   "execution_count": 16,
   "id": "4776dfe2",
   "metadata": {
    "ExecuteTime": {
     "end_time": "2023-08-16T14:02:47.473143Z",
     "start_time": "2023-08-16T14:02:16.353013Z"
    },
    "scrolled": true
   },
   "outputs": [
    {
     "name": "stderr",
     "output_type": "stream",
     "text": [
      "2023-08-16 15:02:16.386481: I metal_plugin/src/device/metal_device.cc:1154] Metal device set to: Apple M1\n",
      "2023-08-16 15:02:16.386549: I metal_plugin/src/device/metal_device.cc:296] systemMemory: 8.00 GB\n",
      "2023-08-16 15:02:16.386559: I metal_plugin/src/device/metal_device.cc:313] maxCacheSize: 2.67 GB\n",
      "2023-08-16 15:02:16.387106: I tensorflow/core/common_runtime/pluggable_device/pluggable_device_factory.cc:303] Could not identify NUMA node of platform GPU ID 0, defaulting to 0. Your kernel may not have been built with NUMA support.\n",
      "2023-08-16 15:02:16.387606: I tensorflow/core/common_runtime/pluggable_device/pluggable_device_factory.cc:269] Created TensorFlow device (/job:localhost/replica:0/task:0/device:GPU:0 with 0 MB memory) -> physical PluggableDevice (device: 0, name: METAL, pci bus id: <undefined>)\n"
     ]
    },
    {
     "name": "stdout",
     "output_type": "stream",
     "text": [
      "Epoch 1/20\n",
      "46/46 [==============================] - 2s 35ms/step - loss: 87.9533 - custom_mape: 87.4961 - custom_mae: 16.6008\n",
      "Epoch 2/20\n",
      "46/46 [==============================] - 1s 30ms/step - loss: 70.3446 - custom_mape: 70.7101 - custom_mae: 12.8356\n",
      "Epoch 3/20\n",
      "46/46 [==============================] - 1s 31ms/step - loss: 46.2149 - custom_mape: 46.1002 - custom_mae: 11.0208\n",
      "Epoch 4/20\n",
      "46/46 [==============================] - 1s 32ms/step - loss: 43.2987 - custom_mape: 43.3342 - custom_mae: 9.9039\n",
      "Epoch 5/20\n",
      "46/46 [==============================] - 2s 35ms/step - loss: 47.9973 - custom_mape: 48.2189 - custom_mae: 11.9250\n",
      "Epoch 6/20\n",
      "46/46 [==============================] - 2s 34ms/step - loss: 41.7451 - custom_mape: 41.6130 - custom_mae: 10.2363\n",
      "Epoch 7/20\n",
      "46/46 [==============================] - 2s 33ms/step - loss: 42.0227 - custom_mape: 42.0473 - custom_mae: 10.2329\n",
      "Epoch 8/20\n",
      "46/46 [==============================] - 2s 38ms/step - loss: 44.2211 - custom_mape: 44.0048 - custom_mae: 8.7168\n",
      "Epoch 9/20\n",
      "46/46 [==============================] - 2s 34ms/step - loss: 34.3643 - custom_mape: 34.2609 - custom_mae: 8.4253\n",
      "Epoch 10/20\n",
      "46/46 [==============================] - 2s 35ms/step - loss: 34.8029 - custom_mape: 35.1367 - custom_mae: 7.9120\n",
      "Epoch 11/20\n",
      "46/46 [==============================] - 1s 31ms/step - loss: 34.6978 - custom_mape: 34.6878 - custom_mae: 9.6581\n",
      "Epoch 12/20\n",
      "46/46 [==============================] - 1s 31ms/step - loss: 34.4504 - custom_mape: 34.2649 - custom_mae: 7.9235\n",
      "Epoch 13/20\n",
      "46/46 [==============================] - 1s 31ms/step - loss: 34.8932 - custom_mape: 35.0644 - custom_mae: 8.2907\n",
      "Epoch 14/20\n",
      "46/46 [==============================] - 1s 30ms/step - loss: 29.2199 - custom_mape: 29.2449 - custom_mae: 7.4773\n",
      "Epoch 15/20\n",
      "46/46 [==============================] - 1s 32ms/step - loss: 28.1591 - custom_mape: 28.1492 - custom_mae: 7.2018\n",
      "Epoch 16/20\n",
      "46/46 [==============================] - 1s 31ms/step - loss: 28.8333 - custom_mape: 28.7625 - custom_mae: 7.3909\n",
      "Epoch 17/20\n",
      "46/46 [==============================] - 1s 31ms/step - loss: 29.5350 - custom_mape: 29.4117 - custom_mae: 6.9442\n",
      "Epoch 18/20\n",
      "46/46 [==============================] - 1s 32ms/step - loss: 28.2950 - custom_mape: 28.2025 - custom_mae: 7.1994\n",
      "Epoch 19/20\n",
      "46/46 [==============================] - 2s 33ms/step - loss: 26.6187 - custom_mape: 26.5179 - custom_mae: 6.7418\n",
      "Epoch 20/20\n",
      "46/46 [==============================] - 2s 33ms/step - loss: 24.7577 - custom_mape: 24.7793 - custom_mae: 7.3043\n"
     ]
    },
    {
     "data": {
      "text/plain": [
       "<keras.src.callbacks.History at 0x140101f90>"
      ]
     },
     "execution_count": 16,
     "metadata": {},
     "output_type": "execute_result"
    }
   ],
   "source": [
    "cnn_model = create_cnn_model(**model_params)\n",
    "cnn_model.fit(X_train, y_train, epochs=20)"
   ]
  },
  {
   "cell_type": "markdown",
   "id": "86971a5b",
   "metadata": {},
   "source": [
    "## Global forecast"
   ]
  },
  {
   "cell_type": "code",
   "execution_count": 17,
   "id": "7de72fe2",
   "metadata": {
    "ExecuteTime": {
     "end_time": "2023-08-16T14:02:51.154838Z",
     "start_time": "2023-08-16T14:02:50.887719Z"
    },
    "scrolled": true
   },
   "outputs": [
    {
     "name": "stdout",
     "output_type": "stream",
     "text": [
      "46/46 [==============================] - 0s 3ms/step\n",
      "1/1 [==============================] - 0s 20ms/step\n"
     ]
    }
   ],
   "source": [
    "y_train_forecast = cnn_model.predict(X_train)\n",
    "y_test_forecast = cnn_model.predict(X_test)"
   ]
  },
  {
   "cell_type": "markdown",
   "id": "e7e3f7f8",
   "metadata": {},
   "source": [
    "## Daily and Weekly Forecast"
   ]
  },
  {
   "cell_type": "code",
   "execution_count": null,
   "id": "79139c06",
   "metadata": {
    "ExecuteTime": {
     "start_time": "2023-08-16T14:02:53.586Z"
    },
    "scrolled": true
   },
   "outputs": [
    {
     "name": "stdout",
     "output_type": "stream",
     "text": [
      "Training for  2023-01-01 00:00:00\n",
      "1/1 [==============================] - 0s 66ms/step\n",
      "Training for  2023-01-02 00:00:00\n",
      "1/1 [==============================] - 0s 10ms/step\n",
      "Training for  2023-01-03 00:00:00\n",
      "1/1 [==============================] - 0s 10ms/step\n",
      "Training for  2023-01-04 00:00:00\n",
      "1/1 [==============================] - 0s 10ms/step\n",
      "Training for  2023-01-05 00:00:00\n",
      "1/1 [==============================] - 0s 17ms/step\n",
      "2023-01-05 00:00:00\n",
      "1/1 [==============================] - 0s 11ms/step\n",
      "2023-01-06 00:00:00\n",
      "1/1 [==============================] - 0s 11ms/step\n",
      "2023-01-07 00:00:00\n",
      "1/1 [==============================] - 0s 10ms/step\n",
      "2023-01-08 00:00:00\n",
      "1/1 [==============================] - 0s 10ms/step\n",
      "2023-01-09 00:00:00\n",
      "1/1 [==============================] - 0s 10ms/step\n",
      "2023-01-10 00:00:00\n",
      "1/1 [==============================] - 0s 10ms/step\n",
      "6\n",
      "7\n",
      "8\n",
      "9\n",
      "10\n",
      "Training for  2023-01-06 00:00:00\n",
      "1/1 [==============================] - 0s 10ms/step\n",
      "Training for  2023-01-07 00:00:00\n",
      "1/1 [==============================] - 0s 16ms/step\n",
      "Training for  2023-01-08 00:00:00\n",
      "1/1 [==============================] - 0s 10ms/step\n",
      "Training for  2023-01-09 00:00:00\n"
     ]
    }
   ],
   "source": [
    "start_time = time.time()\n",
    "daily_forecast, weekly_forecast = transfer_learning(X_train,y_train,n_steps_in,model_params,test_dates,y_test,cnn_model)\n",
    "print(\"--- Transfert d'apprentissage: %s seconds ---\" % (time.time() - start_time))"
   ]
  },
  {
   "cell_type": "markdown",
   "id": "1f162591",
   "metadata": {},
   "source": [
    "# Data analysis"
   ]
  },
  {
   "cell_type": "markdown",
   "id": "5a50e4f8",
   "metadata": {},
   "source": [
    "## Rescale data"
   ]
  },
  {
   "cell_type": "code",
   "execution_count": null,
   "id": "c2657b04",
   "metadata": {
    "ExecuteTime": {
     "end_time": "2023-08-16T13:58:23.492447Z",
     "start_time": "2023-08-16T13:58:23.480724Z"
    }
   },
   "outputs": [],
   "source": [
    "y_train_forecast_rescaled = rescale_predictions(y_train_forecast, scaler['tg1_traffic'])\n",
    "y_train_rescaled = rescale_predictions(y_train, scaler['tg1_traffic'])\n",
    "\n",
    "\n",
    "y_test_forecast_rescaled = rescale_predictions(y_test_forecast, scaler['tg1_traffic'])\n",
    "y_test_rescaled = rescale_predictions(y_test, scaler['tg1_traffic'])\n",
    "\n",
    "\n",
    "\n",
    "daily_forecast_rescaled = rescale_predictions(daily_forecast, scaler['tg1_traffic'])\n",
    "weekly_forecast_rescaled = rescale_predictions(weekly_forecast, scaler['tg1_traffic'])"
   ]
  },
  {
   "cell_type": "markdown",
   "id": "72279ef3",
   "metadata": {},
   "source": [
    "## Concatenate forecast in dataframe"
   ]
  },
  {
   "cell_type": "code",
   "execution_count": null,
   "id": "c3f94fba",
   "metadata": {
    "ExecuteTime": {
     "end_time": "2023-08-16T13:58:27.915674Z",
     "start_time": "2023-08-16T13:58:27.898217Z"
    },
    "scrolled": true
   },
   "outputs": [],
   "source": [
    "data_train_forecast = pd.DataFrame({\n",
    "    'Trafic TG1' : y_train_rescaled.flatten().tolist() ,\n",
    "    'Prévision globale' : y_train_forecast_rescaled.flatten().tolist()\n",
    "                            }, index = train_dates.tolist())\n",
    "\n",
    "data_test_forecast = pd.DataFrame({\n",
    "    'Trafic TG1' : y_test_rescaled.flatten().tolist() ,\n",
    "    'Prévision globale' : y_test_forecast_rescaled.flatten().tolist(),\n",
    "    'Prévision hebdomadaire' : weekly_forecast_rescaled.flatten().tolist(),\n",
    "    'Prévision journalière' : daily_forecast_rescaled.flatten().tolist()  \n",
    "                            }, index = test_dates.tolist())"
   ]
  },
  {
   "cell_type": "markdown",
   "id": "e00d8df0",
   "metadata": {},
   "source": [
    "## Plot results"
   ]
  },
  {
   "cell_type": "code",
   "execution_count": null,
   "id": "25d82f6c",
   "metadata": {
    "ExecuteTime": {
     "end_time": "2023-08-16T13:58:32.325236Z",
     "start_time": "2023-08-16T13:58:32.171306Z"
    },
    "scrolled": false
   },
   "outputs": [],
   "source": [
    "plot_test_results_from_df(data_test_forecast, 'Transfert d’apprentissage')"
   ]
  },
  {
   "cell_type": "code",
   "execution_count": null,
   "id": "c7ed9922",
   "metadata": {
    "ExecuteTime": {
     "end_time": "2023-08-16T13:58:35.669802Z",
     "start_time": "2023-08-16T13:58:35.476115Z"
    },
    "scrolled": false
   },
   "outputs": [],
   "source": [
    "plot_train_results_from_df(data_train_forecast, \"Résultats d'entraînement\")"
   ]
  },
  {
   "cell_type": "markdown",
   "id": "f5350354",
   "metadata": {
    "ExecuteTime": {
     "end_time": "2023-08-16T09:31:54.755071Z",
     "start_time": "2023-08-16T09:31:54.746524Z"
    }
   },
   "source": [
    "## Metrics"
   ]
  },
  {
   "cell_type": "code",
   "execution_count": null,
   "id": "bcd295f5",
   "metadata": {
    "ExecuteTime": {
     "end_time": "2023-08-16T13:58:41.307508Z",
     "start_time": "2023-08-16T13:58:41.286952Z"
    },
    "scrolled": true
   },
   "outputs": [],
   "source": [
    "# Utilisation de la fonction:\n",
    "forecast_columns = ['Prévision globale', 'Prévision journalière', 'Prévision hebdomadaire']\n",
    "mapes = compute_mape_for_columns(data_test_forecast, 'Trafic TG1', forecast_columns)\n",
    "\n",
    "for col, mape in mapes.items():\n",
    "    print(f\"MAPE {col} : {mape:.2f}%\")"
   ]
  },
  {
   "cell_type": "code",
   "execution_count": null,
   "id": "3f41a7d8",
   "metadata": {
    "ExecuteTime": {
     "end_time": "2023-08-16T13:58:45.947520Z",
     "start_time": "2023-08-16T13:58:45.935708Z"
    }
   },
   "outputs": [],
   "source": [
    "# Utilisation de la fonction:\n",
    "forecast_columns = ['Prévision globale']\n",
    "mapes = compute_mape_for_columns(data_train_forecast, 'Trafic TG1', forecast_columns)\n",
    "\n",
    "for col, mape in mapes.items():\n",
    "    print(f\"MAPE {col} : {mape:.2f}%\")"
   ]
  },
  {
   "cell_type": "code",
   "execution_count": null,
   "id": "5b87f85b",
   "metadata": {},
   "outputs": [],
   "source": []
  }
 ],
 "metadata": {
  "celltoolbar": "Aucun(e)",
  "hide_input": false,
  "kernelspec": {
   "display_name": "Python 3.10 (tensorflowspyder)",
   "language": "python",
   "name": "tensorflow"
  },
  "language_info": {
   "codemirror_mode": {
    "name": "ipython",
    "version": 3
   },
   "file_extension": ".py",
   "mimetype": "text/x-python",
   "name": "python",
   "nbconvert_exporter": "python",
   "pygments_lexer": "ipython3",
   "version": "3.10.12"
  },
  "toc": {
   "base_numbering": 1,
   "nav_menu": {},
   "number_sections": true,
   "sideBar": true,
   "skip_h1_title": false,
   "title_cell": "Table of Contents",
   "title_sidebar": "Contents",
   "toc_cell": false,
   "toc_position": {},
   "toc_section_display": true,
   "toc_window_display": false
  },
  "varInspector": {
   "cols": {
    "lenName": 16,
    "lenType": 16,
    "lenVar": 40
   },
   "kernels_config": {
    "python": {
     "delete_cmd_postfix": "",
     "delete_cmd_prefix": "del ",
     "library": "var_list.py",
     "varRefreshCmd": "print(var_dic_list())"
    },
    "r": {
     "delete_cmd_postfix": ") ",
     "delete_cmd_prefix": "rm(",
     "library": "var_list.r",
     "varRefreshCmd": "cat(var_dic_list()) "
    }
   },
   "types_to_exclude": [
    "module",
    "function",
    "builtin_function_or_method",
    "instance",
    "_Feature"
   ],
   "window_display": false
  }
 },
 "nbformat": 4,
 "nbformat_minor": 5
}
