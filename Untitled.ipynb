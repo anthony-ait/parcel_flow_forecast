{
 "cells": [
  {
   "cell_type": "code",
   "execution_count": 3,
   "id": "c87aa9e9",
   "metadata": {
    "ExecuteTime": {
     "end_time": "2023-08-30T08:53:58.070090Z",
     "start_time": "2023-08-30T08:53:57.570858Z"
    }
   },
   "outputs": [
    {
     "name": "stdout",
     "output_type": "stream",
     "text": [
      "           date  tg1_traffic\n",
      "0    2017-01-01            0\n",
      "1    2017-01-02        24323\n",
      "2    2017-01-03        21964\n",
      "3    2017-01-04        20347\n",
      "4    2017-01-05        20753\n",
      "...         ...          ...\n",
      "2395 2023-07-24        33712\n",
      "2396 2023-07-25        26491\n",
      "2397 2023-07-26        27964\n",
      "2398 2023-07-27        23391\n",
      "2399 2023-07-28        23015\n",
      "\n",
      "[2400 rows x 2 columns]\n"
     ]
    }
   ],
   "source": [
    "import pandas as pd\n",
    "import numpy as np\n",
    "# Read main data\n",
    "data = pd.read_excel('data/traffic_tg1.xlsx')\n",
    "\n",
    "print(data)"
   ]
  },
  {
   "cell_type": "code",
   "execution_count": null,
   "id": "aad3f5ae",
   "metadata": {},
   "outputs": [],
   "source": [
    "from fbprophet import Prophet\n",
    "\n",
    "# Supposons que votre tableau 'data' ait une colonne 'date' et une colonne 'value' que vous souhaitez prédire\n",
    "data_prophet = data.rename(columns={'date': 'ds', 'value': 'y'})\n",
    "\n",
    "# Initialiser le modèle Prophet\n",
    "model = Prophet()\n",
    "\n",
    "# Entraîner le modèle\n",
    "model.fit(data_prophet)\n",
    "\n",
    "# Créer un DataFrame pour les dates futures sur lesquelles vous souhaitez faire des prédictions\n",
    "future = model.make_future_dataframe(periods=365)  # Prédire pour les 365 prochains jours, ajustez selon vos besoins\n",
    "\n",
    "# Faire des prédictions\n",
    "forecast = model.predict(future)\n",
    "\n",
    "# Afficher les prédictions\n",
    "fig = model.plot(forecast)\n"
   ]
  },
  {
   "cell_type": "code",
   "execution_count": 23,
   "id": "ae1a6408",
   "metadata": {
    "ExecuteTime": {
     "end_time": "2023-08-30T09:08:00.287702Z",
     "start_time": "2023-08-30T09:08:00.040415Z"
    }
   },
   "outputs": [
    {
     "ename": "AttributeError",
     "evalue": "'Prophet' object has no attribute 'stan_backend'",
     "output_type": "error",
     "traceback": [
      "\u001b[0;31m---------------------------------------------------------------------------\u001b[0m",
      "\u001b[0;31mAttributeError\u001b[0m                            Traceback (most recent call last)",
      "Cell \u001b[0;32mIn[23], line 15\u001b[0m\n\u001b[1;32m     12\u001b[0m val_prophet \u001b[38;5;241m=\u001b[39m val\u001b[38;5;241m.\u001b[39mrename(columns\u001b[38;5;241m=\u001b[39m{\u001b[38;5;124m'\u001b[39m\u001b[38;5;124mdate\u001b[39m\u001b[38;5;124m'\u001b[39m: \u001b[38;5;124m'\u001b[39m\u001b[38;5;124mds\u001b[39m\u001b[38;5;124m'\u001b[39m, \u001b[38;5;124m'\u001b[39m\u001b[38;5;124mtg1_traffic\u001b[39m\u001b[38;5;124m'\u001b[39m: \u001b[38;5;124m'\u001b[39m\u001b[38;5;124my\u001b[39m\u001b[38;5;124m'\u001b[39m})\n\u001b[1;32m     14\u001b[0m \u001b[38;5;66;03m# Initialiser et former le modèle Prophet\u001b[39;00m\n\u001b[0;32m---> 15\u001b[0m model \u001b[38;5;241m=\u001b[39m \u001b[43mProphet\u001b[49m\u001b[43m(\u001b[49m\u001b[43m)\u001b[49m\n\u001b[1;32m     16\u001b[0m model\u001b[38;5;241m.\u001b[39mfit(train_prophet)\n\u001b[1;32m     18\u001b[0m \u001b[38;5;66;03m# Faire des prédictions sur l'ensemble de validation\u001b[39;00m\n",
      "File \u001b[0;32m~/miniconda3/envs/tensorflow/lib/python3.10/site-packages/prophet/forecaster.py:143\u001b[0m, in \u001b[0;36m__init__\u001b[0;34m(self, growth, changepoints, n_changepoints, changepoint_range, yearly_seasonality, weekly_seasonality, daily_seasonality, holidays, seasonality_mode, seasonality_prior_scale, holidays_prior_scale, changepoint_prior_scale, mcmc_samples, interval_width, uncertainty_samples, stan_backend)\u001b[0m\n\u001b[1;32m    140\u001b[0m     \u001b[38;5;28mself\u001b[39m\u001b[38;5;241m.\u001b[39mvalidate_inputs()\n\u001b[1;32m    141\u001b[0m     \u001b[38;5;28mself\u001b[39m\u001b[38;5;241m.\u001b[39m_load_stan_backend(stan_backend)\n\u001b[0;32m--> 143\u001b[0m \u001b[38;5;28;01mdef\u001b[39;00m \u001b[38;5;21m_load_stan_backend\u001b[39m(\u001b[38;5;28mself\u001b[39m, stan_backend):\n\u001b[1;32m    144\u001b[0m     \u001b[38;5;28;01mif\u001b[39;00m stan_backend \u001b[38;5;129;01mis\u001b[39;00m \u001b[38;5;28;01mNone\u001b[39;00m:\n\u001b[1;32m    145\u001b[0m         \u001b[38;5;28;01mfor\u001b[39;00m i \u001b[38;5;129;01min\u001b[39;00m StanBackendEnum:\n",
      "File \u001b[0;32m~/miniconda3/envs/tensorflow/lib/python3.10/site-packages/prophet/forecaster.py:156\u001b[0m, in \u001b[0;36m_load_stan_backend\u001b[0;34m(self, stan_backend)\u001b[0m\n\u001b[1;32m    152\u001b[0m         \u001b[38;5;28mself\u001b[39m\u001b[38;5;241m.\u001b[39mstan_backend \u001b[38;5;241m=\u001b[39m StanBackendEnum\u001b[38;5;241m.\u001b[39mget_backend_class(stan_backend)()\n\u001b[1;32m    154\u001b[0m     logger\u001b[38;5;241m.\u001b[39mdebug(\u001b[38;5;124m\"\u001b[39m\u001b[38;5;124mLoaded stan backend: \u001b[39m\u001b[38;5;132;01m%s\u001b[39;00m\u001b[38;5;124m\"\u001b[39m, \u001b[38;5;28mself\u001b[39m\u001b[38;5;241m.\u001b[39mstan_backend\u001b[38;5;241m.\u001b[39mget_type())\n\u001b[0;32m--> 156\u001b[0m \u001b[38;5;28;01mdef\u001b[39;00m \u001b[38;5;21mvalidate_inputs\u001b[39m(\u001b[38;5;28mself\u001b[39m):\n\u001b[1;32m    157\u001b[0m \u001b[38;5;250m    \u001b[39m\u001b[38;5;124;03m\"\"\"Validates the inputs to Prophet.\"\"\"\u001b[39;00m\n\u001b[1;32m    158\u001b[0m     \u001b[38;5;28;01mif\u001b[39;00m \u001b[38;5;28mself\u001b[39m\u001b[38;5;241m.\u001b[39mgrowth \u001b[38;5;129;01mnot\u001b[39;00m \u001b[38;5;129;01min\u001b[39;00m (\u001b[38;5;124m'\u001b[39m\u001b[38;5;124mlinear\u001b[39m\u001b[38;5;124m'\u001b[39m, \u001b[38;5;124m'\u001b[39m\u001b[38;5;124mlogistic\u001b[39m\u001b[38;5;124m'\u001b[39m, \u001b[38;5;124m'\u001b[39m\u001b[38;5;124mflat\u001b[39m\u001b[38;5;124m'\u001b[39m):\n",
      "\u001b[0;31mAttributeError\u001b[0m: 'Prophet' object has no attribute 'stan_backend'"
     ]
    }
   ],
   "source": [
    "import pandas as pd\n",
    "from prophet import Prophet\n",
    "\n",
    "# Supposons que votre DataFrame est trié par date\n",
    "# Définir une date de coupure\n",
    "cutoff_date = '2022-01-01'\n",
    "train = data[data['date'] < cutoff_date]\n",
    "val = data[data['date'] >= cutoff_date]\n",
    "\n",
    "# Préparer les données pour Prophet\n",
    "train_prophet = train.rename(columns={'date': 'ds', 'tg1_traffic': 'y'})\n",
    "val_prophet = val.rename(columns={'date': 'ds', 'tg1_traffic': 'y'})\n",
    "\n",
    "# Initialiser et former le modèle Prophet\n",
    "model = Prophet()\n",
    "model.fit(train_prophet)\n",
    "\n",
    "# Faire des prédictions sur l'ensemble de validation\n",
    "forecast = model.predict(val_prophet[['ds']])\n",
    "\n",
    "# Comparer les prédictions avec les valeurs réelles\n",
    "from sklearn.metrics import mean_absolute_percentage_error, mean_squared_error\n",
    "import numpy as np\n",
    "\n",
    "mae = mean_absolute_percentage_error(val_prophet['y'], forecast['yhat'])\n",
    "rmse = np.sqrt(mean_squared_error(val_prophet['y'], forecast['yhat']))\n",
    "\n",
    "print(f\"MAE: {mae}\")\n",
    "print(f\"RMSE: {rmse}\")\n"
   ]
  },
  {
   "cell_type": "code",
   "execution_count": null,
   "id": "64fd576f",
   "metadata": {},
   "outputs": [],
   "source": []
  }
 ],
 "metadata": {
  "hide_input": false,
  "kernelspec": {
   "display_name": "Python 3.10 (tensorflowspyder)",
   "language": "python",
   "name": "tensorflow"
  },
  "language_info": {
   "codemirror_mode": {
    "name": "ipython",
    "version": 3
   },
   "file_extension": ".py",
   "mimetype": "text/x-python",
   "name": "python",
   "nbconvert_exporter": "python",
   "pygments_lexer": "ipython3",
   "version": "3.10.12"
  },
  "toc": {
   "base_numbering": 1,
   "nav_menu": {},
   "number_sections": true,
   "sideBar": true,
   "skip_h1_title": false,
   "title_cell": "Table of Contents",
   "title_sidebar": "Contents",
   "toc_cell": false,
   "toc_position": {},
   "toc_section_display": true,
   "toc_window_display": false
  },
  "varInspector": {
   "cols": {
    "lenName": 16,
    "lenType": 16,
    "lenVar": 40
   },
   "kernels_config": {
    "python": {
     "delete_cmd_postfix": "",
     "delete_cmd_prefix": "del ",
     "library": "var_list.py",
     "varRefreshCmd": "print(var_dic_list())"
    },
    "r": {
     "delete_cmd_postfix": ") ",
     "delete_cmd_prefix": "rm(",
     "library": "var_list.r",
     "varRefreshCmd": "cat(var_dic_list()) "
    }
   },
   "types_to_exclude": [
    "module",
    "function",
    "builtin_function_or_method",
    "instance",
    "_Feature"
   ],
   "window_display": false
  }
 },
 "nbformat": 4,
 "nbformat_minor": 5
}
