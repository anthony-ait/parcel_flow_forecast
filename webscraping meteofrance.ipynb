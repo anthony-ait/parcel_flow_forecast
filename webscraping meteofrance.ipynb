{
 "cells": [
  {
   "cell_type": "code",
   "execution_count": null,
   "id": "7aa101e6",
   "metadata": {
    "ExecuteTime": {
     "start_time": "2023-08-24T13:16:44.671Z"
    }
   },
   "outputs": [],
   "source": [
    "from selenium import webdriver\n",
    "from selenium.webdriver.common.by import By\n",
    "from selenium.webdriver.common.action_chains import ActionChains\n",
    "from selenium.webdriver.common.keys import Keys\n",
    "import time\n",
    "\n",
    "def generate_months(start, end):\n",
    "    \"\"\"Génère une liste de mois entre les dates de début et de fin au format AAAAMM.\"\"\"\n",
    "    months = []\n",
    "    y_start, m_start = divmod(start, 100)\n",
    "    y_end, m_end = divmod(end, 100)\n",
    "\n",
    "    while (y_start < y_end) or (y_start == y_end and m_start <= m_end):\n",
    "        months.append(f\"{y_start:04}{m_start:02}\")\n",
    "        m_start += 1\n",
    "        if m_start == 13:\n",
    "            m_start = 1\n",
    "            y_start += 1\n",
    "\n",
    "    return months\n",
    "\n",
    "\n",
    "# Création d'une nouvelle instance de navigateur Safari\n",
    "driver = webdriver.Safari()\n",
    "\n",
    "# Aller à la page désirée\n",
    "driver.get(\"https://donneespubliques.meteofrance.fr/?fond=produit&id_produit=90&id_rubrique=32\")\n",
    "\n",
    "# Attendre que la page se charge\n",
    "time.sleep(5)\n",
    "\n",
    "\n",
    "\n",
    "for _ in range(2):\n",
    "    # Trouver l'élément du champ date\n",
    "    date_element = driver.find_element(By.ID, \"datepicker_archive\")\n",
    "\n",
    "    # Sélectionnez tout le contenu du champ et supprimez-le\n",
    "    # Double-cliquez sur l'élément pour sélectionner tout son contenu\n",
    "    for _ in range(6):\n",
    "        date_element.send_keys(Keys.ARROW_RIGHT)\n",
    "\n",
    "    # Simuler la touche delete six fois pour supprimer chaque caractère\n",
    "    for _ in range(6):\n",
    "        date_element.send_keys(Keys.BACKSPACE)\n",
    "\n",
    "    # Entrer la nouvelle date et appuyer sur Entrée\n",
    "    date_element.send_keys(\"202209\")\n",
    "    date_element.send_keys(Keys.RETURN)\n",
    "\n",
    "\n",
    "# Attendre que le téléchargement se termine\n",
    "time.sleep(10)\n",
    "\n",
    "# Vous pouvez fermer le navigateur une fois terminé\n",
    "driver.close()\n"
   ]
  },
  {
   "cell_type": "code",
   "execution_count": 20,
   "id": "d4aae087",
   "metadata": {
    "ExecuteTime": {
     "end_time": "2023-08-24T09:15:48.712606Z",
     "start_time": "2023-08-24T09:09:11.615603Z"
    }
   },
   "outputs": [],
   "source": [
    "from selenium import webdriver\n",
    "from selenium.webdriver.common.by import By\n",
    "from selenium.webdriver.common.action_chains import ActionChains\n",
    "from selenium.webdriver.common.keys import Keys\n",
    "import time\n",
    "\n",
    "def generate_months(start, end):\n",
    "    \"\"\"Génère une liste de mois entre les dates de début et de fin au format AAAAMM.\"\"\"\n",
    "    months = []\n",
    "    y_start, m_start = divmod(start, 100)\n",
    "    y_end, m_end = divmod(end, 100)\n",
    "\n",
    "    while (y_start < y_end) or (y_start == y_end and m_start <= m_end):\n",
    "        months.append(f\"{y_start:04}{m_start:02}\")\n",
    "        m_start += 1\n",
    "        if m_start == 13:\n",
    "            m_start = 1\n",
    "            y_start += 1\n",
    "\n",
    "    return months\n",
    "\n",
    "\n",
    "# Création d'une nouvelle instance de navigateur Safari\n",
    "driver = webdriver.Safari()\n",
    "\n",
    "# Aller à la page désirée\n",
    "driver.get(\"https://donneespubliques.meteofrance.fr/?fond=produit&id_produit=90&id_rubrique=32\")\n",
    "\n",
    "# Attendre que la page se charge\n",
    "time.sleep(5)\n",
    "\n",
    "# Pour chaque mois entre 201701 et 202307\n",
    "for month in generate_months(202109, 202307):\n",
    "    for _ in range(2):\n",
    "        # Trouver l'élément du champ date\n",
    "        date_element = driver.find_element(By.ID, \"datepicker_archive\")\n",
    "\n",
    "        # Sélectionnez tout le contenu du champ et supprimez-le\n",
    "        # Double-cliquez sur l'élément pour sélectionner tout son contenu\n",
    "        for _ in range(6):\n",
    "            date_element.send_keys(Keys.ARROW_RIGHT)\n",
    "\n",
    "        # Simuler la touche delete six fois pour supprimer chaque caractère\n",
    "        for _ in range(6):\n",
    "            date_element.send_keys(Keys.BACKSPACE)\n",
    "\n",
    "        # Entrer la nouvelle date et appuyer sur Entrée\n",
    "        date_element.send_keys(month)\n",
    "        date_element.send_keys(Keys.RETURN)\n",
    "\n",
    "    # Attendez que le téléchargement soit terminé (ajustez le temps si nécessaire)\n",
    "    time.sleep(10)\n",
    "\n",
    "    # Revenir à la page précédente\n",
    "    driver.back()\n",
    "    time.sleep(5)\n",
    "\n",
    "# Fermer le navigateur à la fin\n",
    "driver.close()"
   ]
  },
  {
   "cell_type": "code",
   "execution_count": null,
   "id": "fc644480",
   "metadata": {},
   "outputs": [],
   "source": []
  }
 ],
 "metadata": {
  "hide_input": false,
  "kernelspec": {
   "display_name": "Python 3.10 (tensorflowspyder)",
   "language": "python",
   "name": "tensorflow"
  },
  "language_info": {
   "codemirror_mode": {
    "name": "ipython",
    "version": 3
   },
   "file_extension": ".py",
   "mimetype": "text/x-python",
   "name": "python",
   "nbconvert_exporter": "python",
   "pygments_lexer": "ipython3",
   "version": "3.10.12"
  },
  "toc": {
   "base_numbering": 1,
   "nav_menu": {},
   "number_sections": true,
   "sideBar": true,
   "skip_h1_title": false,
   "title_cell": "Table of Contents",
   "title_sidebar": "Contents",
   "toc_cell": false,
   "toc_position": {},
   "toc_section_display": true,
   "toc_window_display": false
  },
  "varInspector": {
   "cols": {
    "lenName": 16,
    "lenType": 16,
    "lenVar": 40
   },
   "kernels_config": {
    "python": {
     "delete_cmd_postfix": "",
     "delete_cmd_prefix": "del ",
     "library": "var_list.py",
     "varRefreshCmd": "print(var_dic_list())"
    },
    "r": {
     "delete_cmd_postfix": ") ",
     "delete_cmd_prefix": "rm(",
     "library": "var_list.r",
     "varRefreshCmd": "cat(var_dic_list()) "
    }
   },
   "types_to_exclude": [
    "module",
    "function",
    "builtin_function_or_method",
    "instance",
    "_Feature"
   ],
   "window_display": false
  }
 },
 "nbformat": 4,
 "nbformat_minor": 5
}
